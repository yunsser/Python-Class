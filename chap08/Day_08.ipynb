{
 "cells": [
  {
   "cell_type": "markdown",
   "id": "af1b961b",
   "metadata": {},
   "source": [
    "# MySQL_CRUD"
   ]
  },
  {
   "cell_type": "code",
   "execution_count": 11,
   "id": "4097fbf2",
   "metadata": {},
   "outputs": [
    {
     "name": "stdout",
     "output_type": "stream",
     "text": [
      "11 Rosa 010-1111-1111 Rosa@mmm.com\n"
     ]
    }
   ],
   "source": [
    "import pymysql\n",
    "# MySQL Connection 연결\n",
    "conn = pymysql.connect(host='localhost', user='root', password='tjoeun', db='mypy', charset='utf8')\n",
    "\n",
    "# Connection 으로부터 Cursor 생성\n",
    "curs = conn.cursor()\n",
    "\n",
    "# SQL문 실행\n",
    "sql = \"SELECT num, name, phone, email FROM user LIMIT 10\"\n",
    "curs.execute(sql)\n",
    "\n",
    "# 데이터 Fetch\n",
    "rows = curs.fetchall()\n",
    "for (num,name,phone,email) in rows:\n",
    "    print(num,name,phone,email)\n",
    "    \n",
    "curs.close()\n",
    "# Connection 닫기\n",
    "conn.close()"
   ]
  },
  {
   "cell_type": "code",
   "execution_count": null,
   "id": "4d24e547",
   "metadata": {},
   "outputs": [],
   "source": [
    "# Parameter 확인\n",
    "import pymysql\n",
    "\n",
    "conn = pymysql.connect(host='localhost', user='root', password='tjoeun', db='mypy', charset='utf8')\n",
    "# Dictoionary Cursor 생성\n",
    "curs = conn.cursor(pymysql.cursors.DictCursor)\n",
    " \n",
    "# SQL 실행\n",
    "sql = \"SELECT code, name, continent FROM country WHERE code=%s AND continent=%s\"\n",
    "curs.execute(sql, ('KOR','ASIA'))\n",
    " \n",
    "# 데이타 Fetch\n",
    "rows = curs.fetchall()\n",
    "for row in rows:\n",
    "    print(row)\n",
    "    print(row['code'], row['name'], row['continent'])\n",
    "    \n",
    "curs.close()\n",
    "conn.close()"
   ]
  },
  {
   "cell_type": "code",
   "execution_count": null,
   "id": "e4a88160",
   "metadata": {},
   "outputs": [],
   "source": [
    "# INSERT\n",
    "import pymysql\n",
    " \n",
    "# MySQL Connection 생성\n",
    "conn = pymysql.connect(host='localhost', user='root', password='tjoeun',\n",
    "                       db='test', charset='utf8')\n",
    " \n",
    "# 다수개의 행을 입력하는 경우\n",
    "vals = ((\"Smith\", \"010-5417-3251\", \"smith@daum.net\"), \n",
    "        (\"Blake\", \"010-2547-3210\", \"blake@naver.com\"))\n",
    "sql = \"INSERT INTO user(name, phone, email) VALUES (%s,%s,%s)\"\n",
    "# 다수개의 행을 추가하는 경우 executemany() 를 사용한다\n",
    "with conn.cursor() as cursor:\n",
    "    n = cursor.executemany(sql, vals )\n",
    "    # cursor.execute(sql,('a','b','c')) 이와같은 문장을 반복해서 다수행을 입력할 수도 있다\n",
    "    if n==2:\n",
    "        print('2개행 입력성공')\n",
    "        conn.commit()  # commit을 사용하지 않으면 테이블에 반영되지 않음\n",
    "\n",
    "conn.close()\n",
    "print('사용자 추가 성공')"
   ]
  },
  {
   "cell_type": "code",
   "execution_count": null,
   "id": "1bf64de0",
   "metadata": {},
   "outputs": [],
   "source": [
    "# updata\n",
    "import pymysql\n",
    " \n",
    "# MySQL Connection 생성\n",
    "conn = pymysql.connect(host='localhost', user='root', password='tjoeun',\n",
    "                       db='test', charset='utf8')\n",
    " \n",
    "# Update\n",
    "sql = \"UPDATE user SET phone=%s WHERE num=%s\"\n",
    "\n",
    "with conn.cursor() as cursor:\n",
    "    n = cursor.execute(sql, ('010-3333-7777', 14) )\n",
    "\n",
    "    if n==1:\n",
    "        print('수정 성공')\n",
    "        conn.commit()\n",
    "\n",
    "conn.close()\n",
    " "
   ]
  },
  {
   "cell_type": "code",
   "execution_count": null,
   "id": "1f8acba7",
   "metadata": {},
   "outputs": [],
   "source": [
    "# Delete\n",
    "import pymysql\n",
    " \n",
    "# MySQL Connection 생성\n",
    "conn = pymysql.connect(host='localhost', user='root', password='tjoeun',\n",
    "                       db='test', charset='utf8')\n",
    " \n",
    "# Update\n",
    "sql = \"DELETE FROM user WHERE num=%s\"\n",
    "\n",
    "with conn.cursor() as cursor:\n",
    "    n = cursor.execute(sql, 15 )\n",
    "\n",
    "    if n==1:\n",
    "        print('삭제 성공')\n",
    "        conn.commit()\n",
    "\n",
    "conn.close()"
   ]
  }
 ],
 "metadata": {
  "kernelspec": {
   "display_name": "Python 3 (ipykernel)",
   "language": "python",
   "name": "python3"
  },
  "language_info": {
   "codemirror_mode": {
    "name": "ipython",
    "version": 3
   },
   "file_extension": ".py",
   "mimetype": "text/x-python",
   "name": "python",
   "nbconvert_exporter": "python",
   "pygments_lexer": "ipython3",
   "version": "3.9.7"
  }
 },
 "nbformat": 4,
 "nbformat_minor": 5
}
