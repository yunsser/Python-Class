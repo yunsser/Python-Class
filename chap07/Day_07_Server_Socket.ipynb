{
 "cells": [
  {
   "cell_type": "code",
   "execution_count": null,
   "id": "44927f41",
   "metadata": {},
   "outputs": [],
   "source": [
    "from socket import *\n",
    "import pickle\n",
    "import time\n",
    "from chat import ChatMsg"
   ]
  },
  {
   "cell_type": "code",
   "execution_count": null,
   "id": "f5b50d26",
   "metadata": {},
   "outputs": [],
   "source": [
    "serverSock = socket(AF_INET,SOCK_STREAM)\n",
    "serverSock.bind(('', 1122))\n",
    "serverSock.listen(1) # 동시 접속 클라이언트 1개\n",
    "\n",
    "while True:\n",
    "    print('서버 대기 중....')\n",
    "    com_socket, addr = serverSock.accept() # 클라이언트가 접속시까지 대기함\n",
    "\n",
    "print(str(addr), '에서 접속됨')\n",
    "# msg = '서버에 접속됨'\n",
    "# com_socket.send(msg.encode('utf-8')) # 바이트 단위, 텍스트를 바이트 데이터로 인코딩\n",
    "\n",
    "msg = ChatMsg('서버에 접속됨')\n",
    "com_socket.send(pickle.dumps(msg))\n",
    "\n",
    "msg = com_socket.recv(1024)\n",
    "chatmsg = pickle.loads(msg)\n",
    "print(chatmsg)\n",
    "# print(msg.decode('utf-8'))\n",
    "\n",
    "time.sleep(1)\n",
    "print('서버 종료....')"
   ]
  },
  {
   "cell_type": "markdown",
   "id": "5877b7d1",
   "metadata": {},
   "source": [
    "================================================================"
   ]
  },
  {
   "cell_type": "code",
   "execution_count": null,
   "id": "15cd7edd",
   "metadata": {},
   "outputs": [],
   "source": [
    "from socket import *\n",
    "import time\n",
    "import pickle\n",
    "import threading\n",
    "\n",
    "from chat import ChatMsg"
   ]
  },
  {
   "cell_type": "code",
   "execution_count": null,
   "id": "2095823c",
   "metadata": {},
   "outputs": [],
   "source": [
    "class ChatThread(threading.Thread):\n",
    "    \n",
    "    def __init__(self, soc, addr, soc_list):\n",
    "        threading.Thread.__init__(self)\n",
    "        print('ChatThread 시작됨')\n",
    "        self.soc = soc\n",
    "        self.addr = addr\n",
    "        self.soc_list = soc_list\n",
    "\n",
    "    def run(self):\n",
    "        msg = ChatMsg('서버 접속 성공')\n",
    "        self.soc.send(pickle.dumps(msg))\n",
    "        while True:\n",
    "            try:\n",
    "                msg = self.soc.recv(1024) \n",
    "                for s in self.soc_list:\n",
    "                    s.send(msg)\n",
    "                # if s == self.soc:\n",
    "                #     contiue\n",
    "                # print(pickle.loads(msg))\n",
    "                # self.soc.send(msg)\n",
    "            except:\n",
    "                print(str(self.addr)+ ' 퇴장')\n",
    "                break\n",
    "        print('ChatThread 종료')"
   ]
  },
  {
   "cell_type": "code",
   "execution_count": null,
   "id": "b5828987",
   "metadata": {},
   "outputs": [],
   "source": [
    "serverSock = socket(AF_INET, SOCK_STREAM)\n",
    "serverSock.bind(('',1122))\n",
    "serverSock.listen(1)\n",
    "\n",
    "soc_list = []\n",
    "\n",
    "while True:\n",
    "    print('서버 대기중...')\n",
    "    soc, addr = serverSock.accept() # 클라이언트 접속시까지 대기함\n",
    "    soc_list.append(soc)\n",
    "    ChatThread(soc,addr).start()\n",
    "    \n",
    "print('서버 종료....')"
   ]
  }
 ],
 "metadata": {
  "kernelspec": {
   "display_name": "Python 3 (ipykernel)",
   "language": "python",
   "name": "python3"
  },
  "language_info": {
   "codemirror_mode": {
    "name": "ipython",
    "version": 3
   },
   "file_extension": ".py",
   "mimetype": "text/x-python",
   "name": "python",
   "nbconvert_exporter": "python",
   "pygments_lexer": "ipython3",
   "version": "3.9.7"
  }
 },
 "nbformat": 4,
 "nbformat_minor": 5
}
