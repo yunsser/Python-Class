{
 "cells": [
  {
   "cell_type": "markdown",
   "id": "4329cdd3",
   "metadata": {},
   "source": [
    "# 오늘의 주제\n",
    "* 파이썬 인터프리터의 이해\n",
    "* Jupyter notebook\n",
    "* 주석문의 종류"
   ]
  },
  {
   "cell_type": "code",
   "execution_count": 1,
   "id": "9e39e0d9",
   "metadata": {},
   "outputs": [
    {
     "name": "stdout",
     "output_type": "stream",
     "text": [
      "Hello World\n"
     ]
    }
   ],
   "source": [
    "print('Hello World')\n",
    "\n",
    "\n",
    "# ALT + ENTER 실행 후 아랫줄"
   ]
  },
  {
   "cell_type": "code",
   "execution_count": 2,
   "id": "01cc0eec",
   "metadata": {},
   "outputs": [
    {
     "name": "stdout",
     "output_type": "stream",
     "text": [
      "c = 12\n"
     ]
    }
   ],
   "source": [
    "a = 5\n",
    "b = 7\n",
    "c = a +b\n",
    "c\n",
    "# CTRL + EMTER 실행\n",
    "# SHIFT + ENTER 실행 후 새로운 셀\n",
    "print('c =',c)"
   ]
  },
  {
   "cell_type": "code",
   "execution_count": 3,
   "id": "eed4dff1",
   "metadata": {},
   "outputs": [
    {
     "name": "stdout",
     "output_type": "stream",
     "text": [
      "Hello\n",
      "World\n",
      "This\n",
      "            id\n",
      "                String\n",
      "                    test\n"
     ]
    },
    {
     "data": {
      "text/plain": [
       "' \\nprint(\"a\")\\nprint(\"b\"\")\\nprint(\"c\")\\n'"
      ]
     },
     "execution_count": 3,
     "metadata": {},
     "output_type": "execute_result"
    }
   ],
   "source": [
    "msg = \"Hello\"\n",
    "print(msg)\n",
    "msg = 'World'\n",
    "print(msg)\n",
    "msg = '''This\n",
    "            id\n",
    "                String\n",
    "                    test'''\n",
    "print(msg)\n",
    "\n",
    "#문자열로 만듬\n",
    "\"\"\" \n",
    "print(\"a\")\n",
    "print(\"b\"\")\n",
    "print(\"c\")\n",
    "\"\"\""
   ]
  },
  {
   "cell_type": "code",
   "execution_count": 4,
   "id": "2bf6b252",
   "metadata": {},
   "outputs": [
    {
     "ename": "SyntaxError",
     "evalue": "invalid syntax (Temp/ipykernel_12356/666076870.py, line 1)",
     "output_type": "error",
     "traceback": [
      "\u001b[1;36m  File \u001b[1;32m\"C:\\Users\\user\\AppData\\Local\\Temp/ipykernel_12356/666076870.py\"\u001b[1;36m, line \u001b[1;32m1\u001b[0m\n\u001b[1;33m    msg = \"\"Hello\"\u001b[0m\n\u001b[1;37m            ^\u001b[0m\n\u001b[1;31mSyntaxError\u001b[0m\u001b[1;31m:\u001b[0m invalid syntax\n"
     ]
    }
   ],
   "source": [
    "# 이런식으로 작성하면 오류\n",
    "msg = \"\"Hello\""
   ]
  },
  {
   "cell_type": "code",
   "execution_count": null,
   "id": "2151a587",
   "metadata": {},
   "outputs": [],
   "source": [
    "msg = \"Hello 'World'\"\n",
    "print(msg)"
   ]
  },
  {
   "cell_type": "code",
   "execution_count": null,
   "id": "c4286628",
   "metadata": {},
   "outputs": [],
   "source": [
    "name = \"ada lovelace\"\n",
    "name.title()\n",
    "#print(title)"
   ]
  },
  {
   "cell_type": "code",
   "execution_count": null,
   "id": "24f7fb45",
   "metadata": {},
   "outputs": [],
   "source": [
    "name = \"Ada lovelace\"\n",
    "print(name.upper())\n",
    "print(name.lower())"
   ]
  },
  {
   "cell_type": "code",
   "execution_count": null,
   "id": "c2b2a473",
   "metadata": {},
   "outputs": [],
   "source": [
    "#print(dir(name))\n",
    "#print(help(str))\n",
    "dir(name)\n",
    "help(str)"
   ]
  },
  {
   "cell_type": "code",
   "execution_count": null,
   "id": "0877d1a8",
   "metadata": {},
   "outputs": [],
   "source": [
    "name = \"Smith\"\n",
    "age = 29\n",
    "info = f\"{name}{age}\"\n",
    "info"
   ]
  },
  {
   "cell_type": "code",
   "execution_count": null,
   "id": "e06191a2",
   "metadata": {},
   "outputs": [],
   "source": [
    "name = input('이름을 입력해주세요:')"
   ]
  },
  {
   "cell_type": "code",
   "execution_count": null,
   "id": "32618d6e",
   "metadata": {},
   "outputs": [],
   "source": [
    "#키보드에서 번호, 이름, 전화번호를 입럭하세요\n",
    "#화면에 표시해보세요"
   ]
  },
  {
   "cell_type": "code",
   "execution_count": null,
   "id": "0f679e70",
   "metadata": {},
   "outputs": [],
   "source": [
    "greeting = \"Hello\"\n",
    "newGreeting = greeting.rstrip();\n",
    "newGreeting"
   ]
  },
  {
   "cell_type": "code",
   "execution_count": null,
   "id": "8f7a06f8",
   "metadata": {},
   "outputs": [],
   "source": [
    "nums = [1,2,3]\n",
    "print(nums)\n",
    "a,b,c = nums\n",
    "print(a)"
   ]
  },
  {
   "cell_type": "code",
   "execution_count": null,
   "id": "e1fafe3f",
   "metadata": {},
   "outputs": [],
   "source": [
    "msg = \"\"\"\n",
    "    A\n",
    "    B\n",
    "    C\"\"\"\n",
    "print(msg)\n",
    "\n",
    "msg = '''\n",
    "    A\n",
    "    B\n",
    "    C\n",
    "'''\n",
    "print(msg)"
   ]
  },
  {
   "cell_type": "code",
   "execution_count": null,
   "id": "cfea2e96",
   "metadata": {},
   "outputs": [],
   "source": [
    "names = ['smith', 'scott', 'jone']\n",
    "len(names) # 몇개가 들어있는지 표현해준다\n",
    "names[1].title() #.title() 이걸 넣어주면 앞에 대문자로 바뀜"
   ]
  },
  {
   "cell_type": "code",
   "execution_count": null,
   "id": "b7ee95de",
   "metadata": {},
   "outputs": [],
   "source": [
    "print(names[0], names[2])"
   ]
  },
  {
   "cell_type": "code",
   "execution_count": null,
   "id": "93eb245d",
   "metadata": {},
   "outputs": [],
   "source": [
    "names[0], names[2] # 하나의 자료구조 list 아님 # Tuple"
   ]
  },
  {
   "cell_type": "code",
   "execution_count": null,
   "id": "d687b5b0",
   "metadata": {},
   "outputs": [],
   "source": [
    "type(['a'])"
   ]
  },
  {
   "cell_type": "code",
   "execution_count": null,
   "id": "f89d097a",
   "metadata": {},
   "outputs": [],
   "source": [
    "num = [1,2,3]\n",
    "num[2] = 5\n",
    "num.append(4)\n",
    "num.remove(5) # 값 삭제\n",
    "del num[1]\n",
    "num\n",
    "#dir(num) 쓸수있는 명령어 알려줌\n",
    "#SHIFT + TAB 상세내용보기"
   ]
  },
  {
   "cell_type": "code",
   "execution_count": null,
   "id": "c2469a1c",
   "metadata": {},
   "outputs": [],
   "source": [
    "# 원소가 한개인 Tuple 선언하고 자료형 확인하기\n",
    "data = (10,)\n",
    "type(data)"
   ]
  },
  {
   "cell_type": "code",
   "execution_count": 11,
   "id": "7ef26017",
   "metadata": {},
   "outputs": [
    {
     "name": "stdout",
     "output_type": "stream",
     "text": [
      "<class 'tuple'>\n"
     ]
    }
   ],
   "source": [
    "data = (1, 2, 3)\n",
    "data = 1, 2, 3 # () 생략\n",
    "print(type((data)))"
   ]
  },
  {
   "cell_type": "code",
   "execution_count": 12,
   "id": "2b82a276",
   "metadata": {},
   "outputs": [
    {
     "name": "stdout",
     "output_type": "stream",
     "text": [
      "(1, 2, 3)\n",
      "3\n"
     ]
    }
   ],
   "source": [
    "print(data)\n",
    "print(data[-1]) # 끝 방"
   ]
  },
  {
   "cell_type": "code",
   "execution_count": null,
   "id": "51d297a1",
   "metadata": {},
   "outputs": [],
   "source": [
    "# for문\n",
    "for x in [3,5,7] :\n",
    "    print(x)"
   ]
  },
  {
   "cell_type": "code",
   "execution_count": null,
   "id": "ed8b55f4",
   "metadata": {},
   "outputs": [],
   "source": [
    "for i in range(0,3): # 0 1 2 까지 루프를 돌린다\n",
    "    print(i)"
   ]
  },
  {
   "cell_type": "code",
   "execution_count": 1,
   "id": "2304de04",
   "metadata": {},
   "outputs": [
    {
     "name": "stdout",
     "output_type": "stream",
     "text": [
      "번호 이름 전화:1 윤서 0000\n",
      "['1', '윤서', '0000']\n",
      "번호 이름 전화:2 윤서 0000\n",
      "['2', '윤서', '0000']\n",
      "번호 이름 전화:3 윤서 0000\n",
      "['3', '윤서', '0000']\n",
      "1 윤서 0000\n",
      "2 윤서 0000\n",
      "3 윤서 0000\n"
     ]
    }
   ],
   "source": [
    "# 키보드에서 회원의 정보를 입력받아서 리스트에 저장하는 프로그램 작성 (번호, 이름, 전화)\n",
    "# 3인의 회원정보를 입력 받아서 리스트에 저장하고 화면에 표시해보세요\n",
    "num = []\n",
    "name = []\n",
    "phone = []\n",
    "\n",
    "for _ in range(0,3):\n",
    "    strMem = input('번호 이름 전화:')\n",
    "    memInfo = strMem.split(' ')\n",
    "    print(memInfo)\n",
    "    \n",
    "    num.append(memInfo[0])\n",
    "    name.append(memInfo[1])\n",
    "    phone.append(memInfo[2])\n",
    "    \n",
    "for i in range(0,3):\n",
    "    print(num[i], name[i], phone[i])"
   ]
  },
  {
   "cell_type": "code",
   "execution_count": null,
   "id": "301907e1",
   "metadata": {},
   "outputs": [],
   "source": [
    "name"
   ]
  },
  {
   "cell_type": "code",
   "execution_count": null,
   "id": "2cb78c4b",
   "metadata": {},
   "outputs": [],
   "source": [
    "# if문\n",
    "if a==b:\n",
    "    print(xxx)"
   ]
  },
  {
   "cell_type": "code",
   "execution_count": 4,
   "id": "608d5aac",
   "metadata": {},
   "outputs": [
    {
     "name": "stdout",
     "output_type": "stream",
     "text": [
      "1 윤서 0000\n",
      "2 윤서 0000\n",
      "3 윤서 0000\n",
      "수정할 회원번호 전화: 1 1111\n",
      "\n",
      " 수정된 정보\n",
      "1 윤서 1111\n",
      "2 윤서 0000\n",
      "3 윤서 0000\n"
     ]
    }
   ],
   "source": [
    "for i in range(0,3):\n",
    "    print(num[i], name[i], phone[i])\n",
    "    \n",
    "newInfo = input('수정할 회원번호 전화: ')\n",
    "\n",
    "n, newPhone = newInfo.split(' ')\n",
    "idx = num.index(n) # 값을 사용하여 인덱스를 구함\n",
    "phone[idx] = newPhone # 전화번호 업데이트\n",
    "\n",
    "print('\\n','수정된 정보')\n",
    "for i in range(0,3):\n",
    "    print (num[i], name[i], phone[i])"
   ]
  },
  {
   "cell_type": "code",
   "execution_count": 9,
   "id": "0d31a00a",
   "metadata": {},
   "outputs": [
    {
     "name": "stdout",
     "output_type": "stream",
     "text": [
      "1 윤서 1111\n",
      "2 윤서 0000\n",
      "3 윤서 0000\n",
      "삭제할 회원번호: 2\n",
      "삭제성공\n"
     ]
    }
   ],
   "source": [
    "for i in range(0,3):\n",
    "    print(num[i], name[i], phone[i])\n",
    "    \n",
    "del_num = input('삭제할 회원번호: ')\n",
    "\n",
    "try: \n",
    "    idx = num.index(del_num)\n",
    "    del num[idx]\n",
    "    print('삭제성공')\n",
    "except ValueError as e:\n",
    "    print('삭제실패' + str(e)) # 무슨 에러인지 체크가능\n"
   ]
  },
  {
   "cell_type": "code",
   "execution_count": 10,
   "id": "d57ef057",
   "metadata": {},
   "outputs": [
    {
     "data": {
      "text/plain": [
       "['bmw', 'audi', 'toyota', 'subaru']"
      ]
     },
     "execution_count": 10,
     "metadata": {},
     "output_type": "execute_result"
    }
   ],
   "source": [
    "cars = ['bmw', 'audi', 'toyota', 'subaru']\n",
    "cars"
   ]
  },
  {
   "cell_type": "code",
   "execution_count": 12,
   "id": "88acb4c1",
   "metadata": {},
   "outputs": [
    {
     "data": {
      "text/plain": [
       "['audi', 'bmw', 'subaru', 'toyota']"
      ]
     },
     "execution_count": 12,
     "metadata": {},
     "output_type": "execute_result"
    }
   ],
   "source": [
    "cars.sort() # 오름차순 정렬 # list에서 가끔 사용\n",
    "cars"
   ]
  },
  {
   "cell_type": "code",
   "execution_count": 13,
   "id": "3d35024f",
   "metadata": {},
   "outputs": [
    {
     "data": {
      "text/plain": [
       "['toyota', 'subaru', 'bmw', 'audi']"
      ]
     },
     "execution_count": 13,
     "metadata": {},
     "output_type": "execute_result"
    }
   ],
   "source": [
    "cars.sort(reverse=True) # 내림차순 정렬\n",
    "cars"
   ]
  },
  {
   "cell_type": "code",
   "execution_count": 17,
   "id": "c6c68856",
   "metadata": {},
   "outputs": [
    {
     "data": {
      "text/plain": [
       "['audi', 'bmw', 'subaru', 'toyota']"
      ]
     },
     "execution_count": 17,
     "metadata": {},
     "output_type": "execute_result"
    }
   ],
   "source": [
    "sorted(cars) # 어떠한 이터러블 객체도 받을 수 있다 # abcd 순"
   ]
  },
  {
   "cell_type": "code",
   "execution_count": 20,
   "id": "888b66e2",
   "metadata": {},
   "outputs": [
    {
     "name": "stdout",
     "output_type": "stream",
     "text": [
      "사본 ['audi', 'bmw', 'subaru', 'toyota']\n",
      "원본 ['toyota', 'subaru', 'bmw', 'audi']\n"
     ]
    }
   ],
   "source": [
    "copy_list = sorted(cars)\n",
    "print('사본',copy_list)\n",
    "print('원본',cars)"
   ]
  },
  {
   "cell_type": "code",
   "execution_count": 16,
   "id": "d4d7692d",
   "metadata": {},
   "outputs": [
    {
     "data": {
      "text/plain": [
       "['toyota', 'subaru', 'bmw', 'audi']"
      ]
     },
     "execution_count": 16,
     "metadata": {},
     "output_type": "execute_result"
    }
   ],
   "source": [
    "cars"
   ]
  },
  {
   "cell_type": "code",
   "execution_count": 22,
   "id": "42344f7a",
   "metadata": {},
   "outputs": [
    {
     "data": {
      "text/plain": [
       "['toyota', 'subaru', 'bmw', 'audi']"
      ]
     },
     "execution_count": 22,
     "metadata": {},
     "output_type": "execute_result"
    }
   ],
   "source": [
    "cars.reverse() # 정렬을 반대로 뒤집어준다\n",
    "cars"
   ]
  },
  {
   "cell_type": "code",
   "execution_count": 24,
   "id": "07b116c5",
   "metadata": {},
   "outputs": [
    {
     "data": {
      "text/plain": [
       "['toyota', 'subaru', 'bmw', 'audi']"
      ]
     },
     "execution_count": 24,
     "metadata": {},
     "output_type": "execute_result"
    }
   ],
   "source": [
    "cars\n",
    "cars.reverse()\n",
    "cars"
   ]
  },
  {
   "cell_type": "code",
   "execution_count": 26,
   "id": "21086067",
   "metadata": {},
   "outputs": [
    {
     "data": {
      "text/plain": [
       "[3, 1, 2]"
      ]
     },
     "execution_count": 26,
     "metadata": {},
     "output_type": "execute_result"
    }
   ],
   "source": [
    "nums = [2,1,3]\n",
    "nums.reverse()\n",
    "nums"
   ]
  },
  {
   "cell_type": "code",
   "execution_count": 2,
   "id": "8f685aed",
   "metadata": {},
   "outputs": [
    {
     "name": "stdout",
     "output_type": "stream",
     "text": [
      "1 9\n",
      "2 2\n",
      "3 0\n",
      "4 9\n",
      "5 4\n",
      "6 7\n",
      "7 6\n",
      "8 1\n",
      "9 5\n",
      "10 8\n"
     ]
    }
   ],
   "source": [
    "import random\n",
    "# 임의의 종수 한개를 구한다(5~10)\n",
    "# 위에서 구해진 수의 갯수만큼의 임의의 정수를 구함 # 7이라면 7개의 임의의 정수를 구한다\n",
    "# 구해진 모든 정수를 화면에 표시해보세요\n",
    "# 표시 예)\n",
    "# 1. 6\n",
    "# 2. 2\n",
    "\n",
    "rd_num = random.randint(5,10)\n",
    "list1 = []\n",
    "for i in range(0, rd_num):\n",
    "    rd_num1 = random.randint(0,10)\n",
    "    list1.append(rd_num1)\n",
    "    print(i+1, list1[i])    "
   ]
  }
 ],
 "metadata": {
  "kernelspec": {
   "display_name": "Python 3 (ipykernel)",
   "language": "python",
   "name": "python3"
  },
  "language_info": {
   "codemirror_mode": {
    "name": "ipython",
    "version": 3
   },
   "file_extension": ".py",
   "mimetype": "text/x-python",
   "name": "python",
   "nbconvert_exporter": "python",
   "pygments_lexer": "ipython3",
   "version": "3.9.7"
  }
 },
 "nbformat": 4,
 "nbformat_minor": 5
}
