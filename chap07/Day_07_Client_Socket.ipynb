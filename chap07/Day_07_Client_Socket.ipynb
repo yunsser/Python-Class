{
 "cells": [
  {
   "cell_type": "code",
   "execution_count": null,
   "id": "7c4f0176",
   "metadata": {},
   "outputs": [],
   "source": [
    "# 서버에 접속, 데이터 송수신\n",
    "# 서버는 클라이언트 접속 대기 상태로 존재해야 함\n",
    "# 서버는 특정 클라이언트 간의 통신 중개 역활"
   ]
  },
  {
   "cell_type": "code",
   "execution_count": null,
   "id": "b1c784ab",
   "metadata": {},
   "outputs": [],
   "source": [
    "from socket import *\n",
    "import pickle\n",
    "import time\n",
    "from chat import ChatMsg"
   ]
  },
  {
   "cell_type": "code",
   "execution_count": null,
   "id": "d654ce7e",
   "metadata": {},
   "outputs": [],
   "source": [
    "clientSock = socket(AF_INET,SOCK_STREAM) # 소켓 생성\n",
    "clientSock.connect(('127.0.0.1', 1122)) # 서버에 접속 (1024 이후 서버)\n",
    "\n",
    "msg = clientSock.recv(1024) # 서버 데이터 수신 대기 (데이터가 안와서 block)\n",
    "print(pickle.loads(msg))\n",
    "# print(msg.decode('utf-8')) # 서버로부터 수신된 데이터를 화면에 표시\n",
    "\n",
    "# clientSock.send('클라이언트 메세지'.encode('utf-8'))\n",
    "# clientSock.send('클라이언트에서 전하는 말')\n",
    "chatmsg = ChatMsg('클라이언트에서 전하는 말')\n",
    "clientSock.send(pickle.dumps(chatmsg))\n",
    "\n",
    "time.sleep(1)\n",
    "clientSock.close()\n",
    "print('클라이언트 종료...')"
   ]
  },
  {
   "cell_type": "code",
   "execution_count": null,
   "id": "65b872ad",
   "metadata": {},
   "outputs": [],
   "source": [
    "# 서버에서 수신되는 메시지는 루프를 사용하여 대기한다\n",
    "# 클라이언트는 임의의 시기에 메시지를 서버로 전달가능해야 한다"
   ]
  }
 ],
 "metadata": {
  "kernelspec": {
   "display_name": "Python 3 (ipykernel)",
   "language": "python",
   "name": "python3"
  },
  "language_info": {
   "codemirror_mode": {
    "name": "ipython",
    "version": 3
   },
   "file_extension": ".py",
   "mimetype": "text/x-python",
   "name": "python",
   "nbconvert_exporter": "python",
   "pygments_lexer": "ipython3",
   "version": "3.9.7"
  }
 },
 "nbformat": 4,
 "nbformat_minor": 5
}
