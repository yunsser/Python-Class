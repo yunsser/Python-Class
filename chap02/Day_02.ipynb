{
 "cells": [
  {
   "cell_type": "markdown",
   "id": "65f4671a",
   "metadata": {},
   "source": [
    "# 오늘의 주제\n",
    "1. Ramdom\n",
    "2. List comprehensions"
   ]
  },
  {
   "cell_type": "code",
   "execution_count": 1,
   "id": "4c3d0968",
   "metadata": {},
   "outputs": [],
   "source": [
    "#임의의 정수 10개 추출하고\n",
    "#내림차순으로 정렬하고,\n",
    "#화면에 표시\n",
    "#오름차순으로 정렬\n",
    "#맨 마지막에 있는 정수 1개 삭제\n",
    "#중간에 위치한 수를 추출하여 화면에 표시\n",
    "#중간에 수가 없다면 중간 양쪽에 있는 수의 평균값"
   ]
  },
  {
   "cell_type": "code",
   "execution_count": 2,
   "id": "045e216b",
   "metadata": {},
   "outputs": [
    {
     "name": "stdout",
     "output_type": "stream",
     "text": [
      "[3, 6, 7, 19, 59, 59, 61, 74, 80, 85]\n",
      "[85, 80, 74, 61, 59, 59, 19, 7, 6, 3]\n"
     ]
    }
   ],
   "source": [
    "import random\n",
    "\n",
    "ran_num = [random.randint(1, 100)for r in range(10)]\n",
    "ran_num.sort()\n",
    "print(ran_num)\n",
    "ran_num.sort(reverse=True)\n",
    "print(ran_num)"
   ]
  },
  {
   "cell_type": "code",
   "execution_count": 3,
   "id": "2922b23a",
   "metadata": {},
   "outputs": [],
   "source": [
    "import random # 모듈을 사용하겠다\n",
    "# import random as rd # 랜덤을 rd 라는 언어로 쓰겠다"
   ]
  },
  {
   "cell_type": "code",
   "execution_count": 4,
   "id": "a1fec5b1",
   "metadata": {},
   "outputs": [],
   "source": [
    "num_list = []\n",
    "for _ in range(10):\n",
    "    num_list.append(random.randint(0,10))"
   ]
  },
  {
   "cell_type": "code",
   "execution_count": 5,
   "id": "ea4e7f95",
   "metadata": {},
   "outputs": [
    {
     "data": {
      "text/plain": [
       "[9, 0, 10, 3, 8, 8, 5, 2, 6, 4]"
      ]
     },
     "execution_count": 5,
     "metadata": {},
     "output_type": "execute_result"
    }
   ],
   "source": [
    "num_list"
   ]
  },
  {
   "cell_type": "code",
   "execution_count": 6,
   "id": "72bf7d03",
   "metadata": {},
   "outputs": [
    {
     "data": {
      "text/plain": [
       "[10, 9, 8, 8, 6, 5, 4, 3, 2, 0]"
      ]
     },
     "execution_count": 6,
     "metadata": {},
     "output_type": "execute_result"
    }
   ],
   "source": [
    "num_list.sort(reverse=True)\n",
    "num_list"
   ]
  },
  {
   "cell_type": "code",
   "execution_count": 7,
   "id": "a284a5b5",
   "metadata": {},
   "outputs": [
    {
     "data": {
      "text/plain": [
       "[0, 2, 3, 4, 5, 6, 8, 8, 9, 10]"
      ]
     },
     "execution_count": 7,
     "metadata": {},
     "output_type": "execute_result"
    }
   ],
   "source": [
    "num_list.sort()\n",
    "num_list"
   ]
  },
  {
   "cell_type": "code",
   "execution_count": 8,
   "id": "92d920c1",
   "metadata": {},
   "outputs": [
    {
     "data": {
      "text/plain": [
       "[0, 2, 3, 4, 5, 6, 8, 8, 9]"
      ]
     },
     "execution_count": 8,
     "metadata": {},
     "output_type": "execute_result"
    }
   ],
   "source": [
    "num_list.pop()\n",
    "num_list"
   ]
  },
  {
   "cell_type": "code",
   "execution_count": 9,
   "id": "b23cb94a",
   "metadata": {},
   "outputs": [
    {
     "data": {
      "text/plain": [
       "5"
      ]
     },
     "execution_count": 9,
     "metadata": {},
     "output_type": "execute_result"
    }
   ],
   "source": [
    "num_list[int(len(num_list)/2)]"
   ]
  },
  {
   "cell_type": "code",
   "execution_count": 10,
   "id": "a704ae0e",
   "metadata": {},
   "outputs": [],
   "source": [
    "# 1 ~10 사이의 정수중에서 짝수만 선택하여 \n",
    "# 리스트의 원소에 저장하고 홀수는 0으로 변경하여\n",
    "# 저장한 후 리스트의 모든 원소를 화면에 표시해보세요"
   ]
  },
  {
   "cell_type": "code",
   "execution_count": 11,
   "id": "ca163f4b",
   "metadata": {},
   "outputs": [],
   "source": [
    "# list = []\n",
    "# for i in range(1, 11):\n",
    "#     if i % 2 ==0:\n",
    "#         list.append(i)\n",
    "#     else:\n",
    "#         list.append(0)\n",
    "# print(list)"
   ]
  },
  {
   "cell_type": "code",
   "execution_count": 12,
   "id": "e1724388",
   "metadata": {},
   "outputs": [],
   "source": [
    "            # 조건값\n",
    "nums = [v if v % 2 == 0 else 0 for v in range(1,11)]"
   ]
  },
  {
   "cell_type": "code",
   "execution_count": 13,
   "id": "7c6f7390",
   "metadata": {},
   "outputs": [
    {
     "name": "stdout",
     "output_type": "stream",
     "text": [
      "[0, 2, 0, 4, 0, 6, 0, 8, 0, 10]\n"
     ]
    }
   ],
   "source": [
    "print(nums)"
   ]
  },
  {
   "cell_type": "code",
   "execution_count": 14,
   "id": "7bad3865",
   "metadata": {},
   "outputs": [
    {
     "data": {
      "text/plain": [
       "[1, 2, 3, 4, 5, 6, 7, 8, 9, 10]"
      ]
     },
     "execution_count": 14,
     "metadata": {},
     "output_type": "execute_result"
    }
   ],
   "source": [
    "nums = list(range(1,11))\n",
    "nums"
   ]
  },
  {
   "cell_type": "code",
   "execution_count": 15,
   "id": "77faaca6",
   "metadata": {},
   "outputs": [
    {
     "data": {
      "text/plain": [
       "[5, 6, 7]"
      ]
     },
     "execution_count": 15,
     "metadata": {},
     "output_type": "execute_result"
    }
   ],
   "source": [
    "nums2 = nums[4:7]\n",
    "nums2"
   ]
  },
  {
   "cell_type": "code",
   "execution_count": 16,
   "id": "7de475b8",
   "metadata": {},
   "outputs": [
    {
     "data": {
      "text/plain": [
       "100"
      ]
     },
     "execution_count": 16,
     "metadata": {},
     "output_type": "execute_result"
    }
   ],
   "source": [
    "nums2[0] = 100\n",
    "nums2[0]"
   ]
  },
  {
   "cell_type": "code",
   "execution_count": 17,
   "id": "29bcced9",
   "metadata": {},
   "outputs": [
    {
     "data": {
      "text/plain": [
       "[1, 2, 3, 4, 5, 6, 7, 8, 9, 10]"
      ]
     },
     "execution_count": 17,
     "metadata": {},
     "output_type": "execute_result"
    }
   ],
   "source": [
    "nums"
   ]
  },
  {
   "cell_type": "code",
   "execution_count": 18,
   "id": "3140db6c",
   "metadata": {},
   "outputs": [],
   "source": [
    "nums3 = nums # Shallow Copy 얕은 복사"
   ]
  },
  {
   "cell_type": "code",
   "execution_count": 19,
   "id": "66beb035",
   "metadata": {},
   "outputs": [
    {
     "data": {
      "text/plain": [
       "[1, 2, 3, 4, 5, 6, 7, 8, 9, 10]"
      ]
     },
     "execution_count": 19,
     "metadata": {},
     "output_type": "execute_result"
    }
   ],
   "source": [
    "nums3"
   ]
  },
  {
   "cell_type": "code",
   "execution_count": 20,
   "id": "2db65be6",
   "metadata": {},
   "outputs": [],
   "source": [
    "nums3[0] = 100"
   ]
  },
  {
   "cell_type": "code",
   "execution_count": 21,
   "id": "36ed6a20",
   "metadata": {},
   "outputs": [
    {
     "data": {
      "text/plain": [
       "[100, 2, 3, 4, 5, 6, 7, 8, 9, 10]"
      ]
     },
     "execution_count": 21,
     "metadata": {},
     "output_type": "execute_result"
    }
   ],
   "source": [
    "nums3"
   ]
  },
  {
   "cell_type": "code",
   "execution_count": 22,
   "id": "bfc8de18",
   "metadata": {},
   "outputs": [
    {
     "data": {
      "text/plain": [
       "[100, 2, 3, 4, 5, 6, 7, 8, 9, 10]"
      ]
     },
     "execution_count": 22,
     "metadata": {},
     "output_type": "execute_result"
    }
   ],
   "source": [
    "nums"
   ]
  },
  {
   "cell_type": "code",
   "execution_count": 23,
   "id": "fe308cdf",
   "metadata": {},
   "outputs": [],
   "source": [
    "nums4 = nums[:] # Deep Copy 원본 통째로 복사"
   ]
  },
  {
   "cell_type": "code",
   "execution_count": 24,
   "id": "1358a516",
   "metadata": {},
   "outputs": [
    {
     "data": {
      "text/plain": [
       "[100, 2, 3, 4, 5, 6, 7, 8, 9, 10]"
      ]
     },
     "execution_count": 24,
     "metadata": {},
     "output_type": "execute_result"
    }
   ],
   "source": [
    "nums4"
   ]
  },
  {
   "cell_type": "code",
   "execution_count": 25,
   "id": "cd4c14c7",
   "metadata": {},
   "outputs": [
    {
     "data": {
      "text/plain": [
       "[200, 2, 3, 4, 5, 6, 7, 8, 9, 10]"
      ]
     },
     "execution_count": 25,
     "metadata": {},
     "output_type": "execute_result"
    }
   ],
   "source": [
    "nums4[0] = 200\n",
    "nums4"
   ]
  },
  {
   "cell_type": "code",
   "execution_count": 26,
   "id": "4a22727d",
   "metadata": {},
   "outputs": [
    {
     "data": {
      "text/plain": [
       "[100, 2, 3, 4, 5, 6, 7, 8, 9, 10]"
      ]
     },
     "execution_count": 26,
     "metadata": {},
     "output_type": "execute_result"
    }
   ],
   "source": [
    "nums"
   ]
  },
  {
   "cell_type": "markdown",
   "id": "ae81ed3d",
   "metadata": {},
   "source": [
    "=============================================================================="
   ]
  },
  {
   "cell_type": "code",
   "execution_count": 27,
   "id": "e46a4d05",
   "metadata": {},
   "outputs": [
    {
     "name": "stdout",
     "output_type": "stream",
     "text": [
      "[100, 2, 3, 4, 5, 6, 7, 8, 9, 10, -5]\n"
     ]
    }
   ],
   "source": [
    "nums.append(-5)\n",
    "print(nums)"
   ]
  },
  {
   "cell_type": "code",
   "execution_count": 28,
   "id": "68e4060d",
   "metadata": {},
   "outputs": [
    {
     "data": {
      "text/plain": [
       "[200, 2, 3, 4, 5, 6, 7, 8, 9, 10]"
      ]
     },
     "execution_count": 28,
     "metadata": {},
     "output_type": "execute_result"
    }
   ],
   "source": [
    "nums4"
   ]
  },
  {
   "cell_type": "code",
   "execution_count": 29,
   "id": "9e0aaac6",
   "metadata": {},
   "outputs": [
    {
     "data": {
      "text/plain": [
       "[4, 5, 6]"
      ]
     },
     "execution_count": 29,
     "metadata": {},
     "output_type": "execute_result"
    }
   ],
   "source": [
    "num_list = [4,5,6]\n",
    "num_list"
   ]
  },
  {
   "cell_type": "code",
   "execution_count": 30,
   "id": "ffa4c9b5",
   "metadata": {},
   "outputs": [],
   "source": [
    "a,b,c = num_list"
   ]
  },
  {
   "cell_type": "code",
   "execution_count": 31,
   "id": "590d6468",
   "metadata": {},
   "outputs": [
    {
     "data": {
      "text/plain": [
       "(4, 5, 6)"
      ]
     },
     "execution_count": 31,
     "metadata": {},
     "output_type": "execute_result"
    }
   ],
   "source": [
    "a,b,c"
   ]
  },
  {
   "cell_type": "code",
   "execution_count": 32,
   "id": "81fd93a3",
   "metadata": {},
   "outputs": [
    {
     "data": {
      "text/plain": [
       "4"
      ]
     },
     "execution_count": 32,
     "metadata": {},
     "output_type": "execute_result"
    }
   ],
   "source": [
    "a"
   ]
  },
  {
   "cell_type": "code",
   "execution_count": 33,
   "id": "24258b98",
   "metadata": {},
   "outputs": [
    {
     "data": {
      "text/plain": [
       "[8, 4, 6, 5, 10, 7, 10, 11, 10, 10]"
      ]
     },
     "execution_count": 33,
     "metadata": {},
     "output_type": "execute_result"
    }
   ],
   "source": [
    "# 무작위 정수 10개를 준비하고\n",
    "# 처음 3개를 추출하여 튜플(tuple)에 저장하고\n",
    "# 튜플의 내용을 화면에 표시\n",
    "# list comprehension 활용 \n",
    "\n",
    "nums = [random. randint(0,11) for i in range(1,11)]\n",
    "nums"
   ]
  },
  {
   "cell_type": "code",
   "execution_count": 34,
   "id": "8b525fe5",
   "metadata": {},
   "outputs": [
    {
     "data": {
      "text/plain": [
       "(8, 4, 6)"
      ]
     },
     "execution_count": 34,
     "metadata": {},
     "output_type": "execute_result"
    }
   ],
   "source": [
    "a,b,c = nums[:3]\n",
    "a,b,c"
   ]
  },
  {
   "cell_type": "code",
   "execution_count": 35,
   "id": "2f4f4b11",
   "metadata": {},
   "outputs": [
    {
     "data": {
      "text/plain": [
       "(8, 4, 6)"
      ]
     },
     "execution_count": 35,
     "metadata": {},
     "output_type": "execute_result"
    }
   ],
   "source": [
    "tp = (a,b,c)\n",
    "tp"
   ]
  },
  {
   "cell_type": "markdown",
   "id": "a27097c9",
   "metadata": {},
   "source": [
    "==========================================================================================================================="
   ]
  },
  {
   "cell_type": "code",
   "execution_count": 118,
   "id": "ff62eb67",
   "metadata": {},
   "outputs": [],
   "source": [
    "uid_list = ['SMITH', 'WARD', 'LORA']\n",
    "pwd_list = ['0000', '1111', '2222']"
   ]
  },
  {
   "cell_type": "code",
   "execution_count": 122,
   "id": "52590584",
   "metadata": {},
   "outputs": [
    {
     "name": "stdout",
     "output_type": "stream",
     "text": [
      "아이디 암호: SMITH 0000\n",
      "로그인성공\n"
     ]
    }
   ],
   "source": [
    "# 키보드에서 아이디, 암호를 입력 받아서\n",
    "# 로그인 하는 기능 구현\n",
    "# 미리 uid, pwd 리스트를 생성해놓고 몇개의 정보를 준비함\n",
    "# uid, pwd에는 아이디는 모두 대문자로 준비함\n",
    "# 로그인에 성공할 때까지느 반복해서 시도할 수 있도록 함\n",
    "# 결국 호그인에 성공하면 '로그인 성공', 아니면 '로그인 실패' 표시\n",
    "\n",
    "for _ in range(3):\n",
    "    uid, pwd = input('아이디 암호: ').split()\n",
    "    try:\n",
    "        idx = uid_list.index(uid.upper())\n",
    "        \n",
    "        if uid_list[idx] == uid.upper():\n",
    "            if pwd_list[idx] == pwd:\n",
    "                print('로그인성공')\n",
    "                break\n",
    "    except ValueError as e:\n",
    "        print('로그인실패: ' + str(e))"
   ]
  },
  {
   "cell_type": "code",
   "execution_count": 39,
   "id": "ad0fc973",
   "metadata": {},
   "outputs": [
    {
     "data": {
      "text/plain": [
       "True"
      ]
     },
     "execution_count": 39,
     "metadata": {},
     "output_type": "execute_result"
    }
   ],
   "source": [
    "1 < 2 #True"
   ]
  },
  {
   "cell_type": "code",
   "execution_count": 40,
   "id": "9cbf30a5",
   "metadata": {},
   "outputs": [
    {
     "data": {
      "text/plain": [
       "True"
      ]
     },
     "execution_count": 40,
     "metadata": {},
     "output_type": "execute_result"
    }
   ],
   "source": [
    "1 < 2 and 3 > 2"
   ]
  },
  {
   "cell_type": "code",
   "execution_count": 42,
   "id": "7ecca465",
   "metadata": {},
   "outputs": [
    {
     "data": {
      "text/plain": [
       "False"
      ]
     },
     "execution_count": 42,
     "metadata": {},
     "output_type": "execute_result"
    }
   ],
   "source": [
    "'d' in ['a','b','c']"
   ]
  },
  {
   "cell_type": "code",
   "execution_count": 46,
   "id": "dd5585df",
   "metadata": {},
   "outputs": [],
   "source": [
    "# 파이썬 날짜 다루기\n",
    "# import datetime\n",
    "from datetime import date"
   ]
  },
  {
   "cell_type": "code",
   "execution_count": 49,
   "id": "429b3c5b",
   "metadata": {},
   "outputs": [],
   "source": [
    "# today = datetime.date.today()\n",
    "today = date.today()"
   ]
  },
  {
   "cell_type": "code",
   "execution_count": 55,
   "id": "af632091",
   "metadata": {},
   "outputs": [
    {
     "data": {
      "text/plain": [
       "2"
      ]
     },
     "execution_count": 55,
     "metadata": {},
     "output_type": "execute_result"
    }
   ],
   "source": [
    "today.year # 년도\n",
    "today.month # 월\n",
    "today.day #일\n",
    "today.weekday() # 요일 # 월(0), 화(1), 수(2), 목(3), 금(4), 토(5), 일(6)\n",
    "today.isoweekday() # iso에서 정한 표준요일 # 월(1), 화(2), 수(3), 목(4), 금(5), 토(6), 일(7)"
   ]
  },
  {
   "cell_type": "code",
   "execution_count": 60,
   "id": "146abba1",
   "metadata": {},
   "outputs": [],
   "source": [
    "# 오늘 날짜 출력\n",
    "# 2022년 05월 03일 화요일\n",
    "\n",
    "from datetime import date\n",
    "today = date.today()"
   ]
  },
  {
   "cell_type": "code",
   "execution_count": 97,
   "id": "7d45f471",
   "metadata": {},
   "outputs": [
    {
     "name": "stdout",
     "output_type": "stream",
     "text": [
      "2022년 5월 3일 화요일\n"
     ]
    }
   ],
   "source": [
    "from datetime import date\n",
    "\n",
    "d = date.today()\n",
    "t = ['월', '화', '수', '목', '금', '토', '일']\n",
    "r = d.weekday()\n",
    "print (str(d.year)+'년', str(d.month)+'월', str(d.day)+'일', t[r]+'요일')"
   ]
  },
  {
   "cell_type": "code",
   "execution_count": 91,
   "id": "e1c9d1ca",
   "metadata": {},
   "outputs": [],
   "source": [
    "year = today.year\n",
    "month = today.month\n",
    "day = today.day\n",
    "wday = today.weekday()\n",
    "\n",
    "strday = ''\n",
    "\n",
    "if wday==0:\n",
    "    strday='월'\n",
    "elif wday==1:\n",
    "    strday='화'\n",
    "elif wday==2:\n",
    "    strday='수'\n",
    "elif wday==3:\n",
    "    strday='목'\n",
    "elif wday==4:\n",
    "    strday='금'\n",
    "elif wday==5:\n",
    "    strday='토'\n",
    "elif wday==6:\n",
    "    strday='일'"
   ]
  },
  {
   "cell_type": "code",
   "execution_count": 98,
   "id": "33ae737f",
   "metadata": {},
   "outputs": [
    {
     "data": {
      "text/plain": [
       "'화'"
      ]
     },
     "execution_count": 98,
     "metadata": {},
     "output_type": "execute_result"
    }
   ],
   "source": [
    "days = list('월화수목금토일')\n",
    "days[0]\n",
    "days[wday]"
   ]
  },
  {
   "cell_type": "code",
   "execution_count": 94,
   "id": "b17e867d",
   "metadata": {},
   "outputs": [],
   "source": [
    "strday = list('월화수목금토일')[wday]"
   ]
  },
  {
   "cell_type": "code",
   "execution_count": 95,
   "id": "06adbd21",
   "metadata": {},
   "outputs": [
    {
     "name": "stdout",
     "output_type": "stream",
     "text": [
      "2022년 5월 3일, 화요일\n"
     ]
    }
   ],
   "source": [
    "print(f\"{year}년 {month}월 {day}일, {strday}요일\")"
   ]
  },
  {
   "cell_type": "code",
   "execution_count": 125,
   "id": "7ddf1d89",
   "metadata": {},
   "outputs": [
    {
     "name": "stdout",
     "output_type": "stream",
     "text": [
      "아이디 암호: SMITH 2222\n",
      "아이디 암호: SMIT 1111\n",
      "로그인실패\n",
      "아이디 암호: SMITH 0000\n",
      "로그인 성공\n"
     ]
    }
   ],
   "source": [
    "# try ~ except 리스트에 포함되지 않는 아이템을 검사\n",
    "# - list.index('value')\n",
    "# try ~ except 없이 로그인 기능 구현\n",
    "\n",
    "uid_list = ['SMITH', 'WARD', 'LORA']\n",
    "pwd_list = ['0000', '1111', '2222']\n",
    "\n",
    "for _ in range(3):\n",
    "   uid,pwd = input('아이디 암호: ').split()\n",
    "   if uid.upper() in uid_list:\n",
    "        idx = uid_list.index(uid.upper())\n",
    "        if uid_list[idx] == uid.upper() and pwd_list[idx]==pwd:\n",
    "            print('로그인 성공')\n",
    "            break\n",
    "   else:\n",
    "    print('로그인실패')"
   ]
  },
  {
   "cell_type": "code",
   "execution_count": 123,
   "id": "8c937ff6",
   "metadata": {},
   "outputs": [
    {
     "data": {
      "text/plain": [
       "dict"
      ]
     },
     "execution_count": 123,
     "metadata": {},
     "output_type": "execute_result"
    }
   ],
   "source": [
    "users = [{}, {}, {}]\n",
    "type(users[0])"
   ]
  },
  {
   "cell_type": "code",
   "execution_count": 160,
   "id": "b5f02ac9",
   "metadata": {},
   "outputs": [
    {
     "name": "stdout",
     "output_type": "stream",
     "text": [
      "번호 이름 전화: 1 2 34 \n",
      "번호 이름 전화: 2 3 5\n",
      "번호 이름 전화: 12 4 5\n"
     ]
    },
    {
     "data": {
      "text/plain": [
       "[{'num': '1', 'name': '2', 'phone': '34'},\n",
       " {'num': '2', 'name': '3', 'phone': '5'},\n",
       " {'num': '12', 'name': '4', 'phone': '5'}]"
      ]
     },
     "execution_count": 160,
     "metadata": {},
     "output_type": "execute_result"
    }
   ],
   "source": [
    "# 키보드에서 3인의 회원정보를 입력받는다\n",
    "# (번호, 이름, 전화)\n",
    "# 입력을 마치면, 입력된 모든 정보를 리스트로 화면에 표시\n",
    "# user = {}\n",
    "# user['num'] = 11\n",
    "\n",
    "users = []\n",
    "for _ in range(3):\n",
    "    (num,name,phone) = input('번호 이름 전화: ').split()\n",
    "    users.append({'num':num, 'name':name, 'phone':phone})\n",
    "users"
   ]
  },
  {
   "cell_type": "code",
   "execution_count": 161,
   "id": "d0a5bab4",
   "metadata": {},
   "outputs": [
    {
     "name": "stdout",
     "output_type": "stream",
     "text": [
      "1\t2\t34\n",
      "2\t3\t5\n",
      "12\t4\t5\n"
     ]
    }
   ],
   "source": [
    "for user in users:\n",
    "    s = f\"{user['num']}\\t{user['name']}\\t{user['phone']}\"\n",
    "    print(s)"
   ]
  },
  {
   "cell_type": "code",
   "execution_count": 162,
   "id": "96873969",
   "metadata": {},
   "outputs": [],
   "source": [
    "# 한사람의 전화번호를 수정 후 화면에 표시\n",
    "users[1]['phone'] = '3333'"
   ]
  },
  {
   "cell_type": "code",
   "execution_count": 163,
   "id": "69875bb4",
   "metadata": {},
   "outputs": [
    {
     "name": "stdout",
     "output_type": "stream",
     "text": [
      "1\t2\t34\n",
      "2\t3\t3333\n",
      "12\t4\t5\n"
     ]
    }
   ],
   "source": [
    "for user in users:\n",
    "    s = f\"{user['num']}\\t{user['name']}\\t{user['phone']}\"\n",
    "    print(s)"
   ]
  },
  {
   "cell_type": "code",
   "execution_count": 164,
   "id": "d3275927",
   "metadata": {},
   "outputs": [],
   "source": [
    "# 리스트에 저장된 마지막 회원정보 중에서 phone 정보 삭제\n",
    "# 삭제된 상태로 리스트 출력\n",
    "# phone 정보가 없는 경우 '전화기 분실' 표시\n",
    "\n",
    "del users[2]['phone']"
   ]
  },
  {
   "cell_type": "code",
   "execution_count": 165,
   "id": "3147d24f",
   "metadata": {},
   "outputs": [
    {
     "data": {
      "text/plain": [
       "[{'num': '1', 'name': '2', 'phone': '34'},\n",
       " {'num': '2', 'name': '3', 'phone': '3333'},\n",
       " {'num': '12', 'name': '4'}]"
      ]
     },
     "execution_count": 165,
     "metadata": {},
     "output_type": "execute_result"
    }
   ],
   "source": [
    "users"
   ]
  },
  {
   "cell_type": "code",
   "execution_count": 169,
   "id": "fc7e5105",
   "metadata": {
    "scrolled": true
   },
   "outputs": [
    {
     "name": "stdout",
     "output_type": "stream",
     "text": [
      "1\t2\t34\n",
      "2\t3\t3333\n",
      "12\t4\t전화기 분실\n"
     ]
    }
   ],
   "source": [
    "for user in users:\n",
    "    s = f\"{user['num']}\\t{user['name']}\\t{user.get('phone','전화기 분실')}\"\n",
    "    print(s)"
   ]
  },
  {
   "cell_type": "code",
   "execution_count": 173,
   "id": "ac1ef20a",
   "metadata": {},
   "outputs": [
    {
     "name": "stdout",
     "output_type": "stream",
     "text": [
      "검색할 회원정보: 1\n"
     ]
    }
   ],
   "source": [
    "# [{}, {} ......]\n",
    "# 위의 리스트에 몇 사람 정보를 저장한다\n",
    "# 키보드에서 회원번호를 입력하여 해당 회원을 검색하고\n",
    "# 그 결과를 화면에 표시한다\n",
    "\n",
    "num = input('검색할 회원정보: ').strip()"
   ]
  },
  {
   "cell_type": "code",
   "execution_count": 176,
   "id": "a6b22241",
   "metadata": {},
   "outputs": [
    {
     "name": "stdout",
     "output_type": "stream",
     "text": [
      "1\t2\t3\n"
     ]
    }
   ],
   "source": [
    "for user in users:\n",
    "    if user['num']==num:\n",
    "        s = f\"{user['num']}\\t{user['name']}\\t{user.get('phone','전화기 분실')}\"\n",
    "        print(s)\n",
    "        break"
   ]
  },
  {
   "cell_type": "code",
   "execution_count": 175,
   "id": "ac67fe1c",
   "metadata": {},
   "outputs": [
    {
     "name": "stdout",
     "output_type": "stream",
     "text": [
      "번호, 이름, 전화를 입력하세요: 1 2 3\n",
      "번호, 이름, 전화를 입력하세요: 2 3 4\n",
      "번호, 이름, 전화를 입력하세요: 5 6 7\n",
      "검색할 회원번호: 1\n",
      "1\t2\t3\n"
     ]
    }
   ],
   "source": [
    "users = []\n",
    "for i in range(3):\n",
    "    num, name, phone = input(\"번호, 이름, 전화를 입력하세요: \").split()\n",
    "    users.append({'num':num, 'name':name, 'phone':phone})\n",
    "\n",
    "num = input('검색할 회원번호: ').strip()    \n",
    "for user in users:\n",
    "    if num==user['num']:\n",
    "        s = f\"{user['num']}\\t{user['name']}\\t{user['phone']}\"\n",
    "        print(s)\n",
    "        break"
   ]
  },
  {
   "cell_type": "code",
   "execution_count": null,
   "id": "b2a556b8",
   "metadata": {},
   "outputs": [],
   "source": [
    "# list, set, dictionary\n",
    "# list : 순서유지, 중복활용\n",
    "# set : 순서없음, 중복불허\n",
    "# dict : key, value 같이 저장"
   ]
  },
  {
   "cell_type": "code",
   "execution_count": 179,
   "id": "63da3b34",
   "metadata": {},
   "outputs": [],
   "source": [
    "set1 = set([1,1,1,1,2])"
   ]
  },
  {
   "cell_type": "code",
   "execution_count": 180,
   "id": "9770b48e",
   "metadata": {},
   "outputs": [
    {
     "data": {
      "text/plain": [
       "2"
      ]
     },
     "execution_count": 180,
     "metadata": {},
     "output_type": "execute_result"
    }
   ],
   "source": [
    "len(set1)"
   ]
  },
  {
   "cell_type": "code",
   "execution_count": 182,
   "id": "00ecb154",
   "metadata": {},
   "outputs": [
    {
     "data": {
      "text/plain": [
       "[2, 3, 4, 6, 7, 8, 9]"
      ]
     },
     "execution_count": 182,
     "metadata": {},
     "output_type": "execute_result"
    }
   ],
   "source": [
    "# 1~10 사이의 정수 중에서 임의로 한개를 추출하여 중복되지 않도록 7개를 추출하려고 한다\n",
    "# 추출된 원소를 정렬하여 화면에 표시한다\n",
    "# 무한루프\n",
    "# while True :\n",
    "#    xxxxxxx\n",
    "#    break\n",
    "\n",
    "import random as rd\n",
    "set2 = set()\n",
    "\n",
    "while True:\n",
    "    rd_num = rd.randint(1, 11)\n",
    "    set2.add(rd_num)\n",
    "    if len(set2)==7:\n",
    "        break\n",
    "        \n",
    "sorted(set2)"
   ]
  }
 ],
 "metadata": {
  "kernelspec": {
   "display_name": "Python 3 (ipykernel)",
   "language": "python",
   "name": "python3"
  },
  "language_info": {
   "codemirror_mode": {
    "name": "ipython",
    "version": 3
   },
   "file_extension": ".py",
   "mimetype": "text/x-python",
   "name": "python",
   "nbconvert_exporter": "python",
   "pygments_lexer": "ipython3",
   "version": "3.9.7"
  }
 },
 "nbformat": 4,
 "nbformat_minor": 5
}
