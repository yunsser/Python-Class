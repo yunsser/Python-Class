{
 "cells": [
  {
   "cell_type": "markdown",
   "id": "6467e91d",
   "metadata": {},
   "source": [
    "# 오늘의 주제\n",
    "* 파일 다루기\n",
    "* 객체 직렬화 (Serialization)"
   ]
  },
  {
   "cell_type": "markdown",
   "id": "3ce32ffd",
   "metadata": {},
   "source": [
    "# 파일 다루기\n",
    "* 파일 열기 : open()\n",
    "* CRUD : read, write, readlines\n",
    "* 파일 닫기 : close()"
   ]
  },
  {
   "cell_type": "code",
   "execution_count": 1,
   "id": "e14936c1",
   "metadata": {},
   "outputs": [],
   "source": [
    "fobj = open('emp.py', 'r')\n",
    "type(fobj) # _io.TextIOWrapper\n",
    "dir(fobj)  # Iterator, __next__(), 반복문에 적용 가능\n",
    "fobj.close()"
   ]
  },
  {
   "cell_type": "code",
   "execution_count": 2,
   "id": "8d3b5772",
   "metadata": {},
   "outputs": [
    {
     "name": "stdout",
     "output_type": "stream",
     "text": [
      "class Emp:\n",
      "    def __init__(self, num, name=None, phone=None):\n",
      "        self.num = num\n",
      "        self.name = name\n",
      "        self.phone = phone\n",
      "\n",
      "    def __str__(self):\n",
      "        return(f\"{self.num}\\t{self.name}\\t{self.phone}\")\n",
      "\n",
      "    def __eq__(self, other):\n",
      "        return self.num == other.num\n",
      "\n"
     ]
    }
   ],
   "source": [
    "fobj = open('emp.py', 'r')\n",
    "for data in fobj:\n",
    "    # print(data, end='') # 프린트의 디폴트(\\n) 개행을 하지마라 # Keyword Arguments\n",
    "    print(data.rstrip()) # 오른쪽 끝에 있는 공백제거\n",
    "fobj.close()"
   ]
  },
  {
   "cell_type": "code",
   "execution_count": 3,
   "id": "16127148",
   "metadata": {},
   "outputs": [
    {
     "data": {
      "text/plain": [
       "False"
      ]
     },
     "execution_count": 3,
     "metadata": {},
     "output_type": "execute_result"
    }
   ],
   "source": [
    "from collections.abc import Iterable, Iterator\n",
    "nums = [1,2,3]\n",
    "dir(nums)\n",
    "isinstance(nums, Iterable) # True, isinstance (Java : intance of 메소드와 동일), __getitem__()이 존재한다\n",
    "# nums.__iter__() # for of 안에서 사용가능\n",
    "isinstance(nums, Iterator) # False"
   ]
  },
  {
   "cell_type": "code",
   "execution_count": 4,
   "id": "ce30784b",
   "metadata": {},
   "outputs": [
    {
     "data": {
      "text/plain": [
       "1"
      ]
     },
     "execution_count": 4,
     "metadata": {},
     "output_type": "execute_result"
    }
   ],
   "source": [
    "nums.__getitem__(0)\n",
    "nums[0]"
   ]
  },
  {
   "cell_type": "code",
   "execution_count": 5,
   "id": "ce4a5051",
   "metadata": {},
   "outputs": [
    {
     "data": {
      "text/plain": [
       "True"
      ]
     },
     "execution_count": 5,
     "metadata": {},
     "output_type": "execute_result"
    }
   ],
   "source": [
    "itr = nums.__iter__() # next만 호출, 인스턴스 안에 있는 메소드\n",
    "\n",
    "isinstance(itr, Iterator) # True"
   ]
  },
  {
   "cell_type": "code",
   "execution_count": 6,
   "id": "11a119b2",
   "metadata": {},
   "outputs": [
    {
     "data": {
      "text/plain": [
       "<list_iterator at 0x28676d90e20>"
      ]
     },
     "execution_count": 6,
     "metadata": {},
     "output_type": "execute_result"
    }
   ],
   "source": [
    "# nums.__iter__()\n",
    "iter(nums) # 함수(클래스 밖)"
   ]
  },
  {
   "cell_type": "code",
   "execution_count": 7,
   "id": "26840e35",
   "metadata": {},
   "outputs": [
    {
     "data": {
      "text/plain": [
       "True"
      ]
     },
     "execution_count": 7,
     "metadata": {},
     "output_type": "execute_result"
    }
   ],
   "source": [
    "isinstance(fobj, Iterable) # True\n",
    "isinstance(fobj, Iterator) # True"
   ]
  },
  {
   "cell_type": "code",
   "execution_count": 8,
   "id": "967a57d6",
   "metadata": {},
   "outputs": [
    {
     "data": {
      "text/plain": [
       "str"
      ]
     },
     "execution_count": 8,
     "metadata": {},
     "output_type": "execute_result"
    }
   ],
   "source": [
    "fobj = open('emp.py', 'r')\n",
    "fdata = fobj.read()\n",
    "# print(fdata)\n",
    "type(fdata) # str (문자열 한개), 한방에 출력을 할때"
   ]
  },
  {
   "cell_type": "code",
   "execution_count": 9,
   "id": "d4f965aa",
   "metadata": {},
   "outputs": [
    {
     "name": "stdout",
     "output_type": "stream",
     "text": [
      "class Emp:\n",
      "    def __init__(self, num, name=None, phone=None):\n",
      "        self.num = num\n",
      "        self.name = name\n",
      "        self.phone = phone\n",
      "\n",
      "    def __str__(self):\n",
      "        return(f\"{self.num}\\t{self.name}\\t{self.phone}\")\n",
      "\n",
      "    def __eq__(self, other):\n",
      "        return self.num == other.num\n",
      "\n"
     ]
    }
   ],
   "source": [
    "fobj = open('emp.py', 'r')\n",
    "datalist = fobj.readlines() # 한행 한행을 가져오기 때문에, 한행 한행 분석할때 쓰기 좋다\n",
    "type(datalist) # list\n",
    "\n",
    "for line in datalist:\n",
    "    print(line.rstrip())\n",
    "    \n",
    "fobj.close()"
   ]
  },
  {
   "cell_type": "code",
   "execution_count": 10,
   "id": "3432b94d",
   "metadata": {},
   "outputs": [
    {
     "name": "stdout",
     "output_type": "stream",
     "text": [
      "class Emp:\n",
      "    def __init__(self, num, name=None, phone=None):\n",
      "        self.num = num\n",
      "        self.name = name\n",
      "        self.phone = phone\n"
     ]
    }
   ],
   "source": [
    "fobj = open('emp.py', 'r')\n",
    "print(fobj.__next__().rstrip()) # 한 행\n",
    "print(fobj.__next__().rstrip())\n",
    "print(fobj.__next__().rstrip())\n",
    "print(fobj.__next__().rstrip())\n",
    "print(fobj.__next__().rstrip())\n",
    "fobj.close()"
   ]
  },
  {
   "cell_type": "code",
   "execution_count": 11,
   "id": "0645d432",
   "metadata": {},
   "outputs": [
    {
     "name": "stdout",
     "output_type": "stream",
     "text": [
      "class Emp:\n",
      "    def __init__(self, num, name=None, phone=None):\n",
      "        self.num = num\n",
      "        self.name = name\n",
      "        self.phone = phone\n"
     ]
    }
   ],
   "source": [
    "fobj = open('emp.py', 'r')\n",
    "# fobj.__next__()\n",
    "print(next(fobj).rstrip()) # 위에와 동일한 한 행\n",
    "print(next(fobj).rstrip())\n",
    "print(next(fobj).rstrip())\n",
    "print(next(fobj).rstrip())\n",
    "print(next(fobj).rstrip())\n",
    "fobj.close()"
   ]
  },
  {
   "cell_type": "code",
   "execution_count": 12,
   "id": "baa3c6cf",
   "metadata": {},
   "outputs": [
    {
     "name": "stdout",
     "output_type": "stream",
     "text": [
      "class Emp:\n",
      "    def __init__(self, num, name=None, phone=None):\n",
      "        self.num = num\n",
      "        self.name = name\n",
      "        self.phone = phone\n",
      "\n",
      "    def __str__(self):\n",
      "        return(f\"{self.num}\\t{self.name}\\t{self.phone}\")\n",
      "\n",
      "    def __eq__(self, other):\n",
      "        return self.num == other.num\n",
      "\n"
     ]
    }
   ],
   "source": [
    "with open('emp.py', 'r') as fobj: # 자동 close()\n",
    "    for line in fobj :\n",
    "        print(line.rstrip())"
   ]
  },
  {
   "cell_type": "code",
   "execution_count": 23,
   "id": "449b8e65",
   "metadata": {},
   "outputs": [
    {
     "name": "stdout",
     "output_type": "stream",
     "text": [
      "11\tKing\t010-2147-5201\n",
      "12\tSuzan\t010-3697-2145\n",
      "13\tBlake\t010-8520-12501\n",
      "1\t2\t3\n"
     ]
    }
   ],
   "source": [
    "# Emp 클래스가 포함된 모듈을 임포트한다\n",
    "from emp import Emp\n",
    "\n",
    "# with 절을 이용하여 emps.txt를 읽기모드로 열고 객체를 fobj에 저장\n",
    "with open('emps.txt', 'r') as fobj:\n",
    "    # 한 행을 읽어서 공백 기준으로 쪼갠다\n",
    "    for line in fobj:\n",
    "        (num,name,phone) = line.strip().split()\n",
    "        print(Emp(num,name,phone)) "
   ]
  },
  {
   "cell_type": "code",
   "execution_count": 24,
   "id": "4414e9c5",
   "metadata": {},
   "outputs": [
    {
     "name": "stdout",
     "output_type": "stream",
     "text": [
      "11\tKing\t010-2147-5201\n",
      "12\tSuzan\t010-3697-2145\n",
      "13\tBlake\t010-8520-12501\n",
      "1\t2\t3\n"
     ]
    }
   ],
   "source": [
    "from emp import Emp\n",
    "\n",
    "with open('emps.txt', 'r') as fobj:\n",
    "    for line in fobj:\n",
    "        tup = line.strip().split()\n",
    "        emp = Emp(tup[0], tup[1], tup[2])\n",
    "        print(emp)"
   ]
  },
  {
   "cell_type": "code",
   "execution_count": 25,
   "id": "2ab6c639",
   "metadata": {},
   "outputs": [],
   "source": [
    "def show_list(emps):\n",
    "    for emp in emps:\n",
    "        print(emp)"
   ]
  },
  {
   "cell_type": "code",
   "execution_count": 26,
   "id": "46a31ff5",
   "metadata": {},
   "outputs": [
    {
     "name": "stdout",
     "output_type": "stream",
     "text": [
      "11\tKing\t010-2147-5201\n",
      "12\tSuzan\t010-3697-2145\n",
      "13\tBlake\t010-8520-12501\n",
      "1\t2\t3\n"
     ]
    }
   ],
   "source": [
    "from emp import Emp\n",
    "\n",
    "emps = []\n",
    "with open('emps.txt', 'r') as fobj:\n",
    "    for line in fobj:\n",
    "        num,name,phone = line.strip().split()\n",
    "        emps.append(Emp(num,name,phone))\n",
    "\n",
    "# 목록을 받아서 화면에 표시한다\n",
    "show_list(emps)"
   ]
  },
  {
   "cell_type": "code",
   "execution_count": 27,
   "id": "b2dcba9d",
   "metadata": {},
   "outputs": [],
   "source": [
    "# 파일에 한 행 추가\n",
    "# open, append mode, write\n",
    "fobj = open('filename', 'a')\n",
    "fobj.write('line\\n')\n",
    "fobj.close()"
   ]
  },
  {
   "cell_type": "code",
   "execution_count": 28,
   "id": "a042b455",
   "metadata": {},
   "outputs": [],
   "source": [
    "from emp import Emp\n",
    "\n",
    "def load_emps():\n",
    "    emps = []\n",
    "    with open('emps.txt', 'r') as fobj:\n",
    "        for line in fobj:\n",
    "            num,name,phone = line.strip().split()\n",
    "            emps.append(Emp(num,name,phone))\n",
    "    return emps"
   ]
  },
  {
   "cell_type": "code",
   "execution_count": 29,
   "id": "0c3e3d76",
   "metadata": {},
   "outputs": [],
   "source": [
    "def save_emp(emp):\n",
    "    line = \"{} {} {}\".format(emp.num, emp.name, emp.phone)\n",
    "    with open('emps.txt', 'a') as fobj:\n",
    "        fobj.write(line + '\\n')"
   ]
  },
  {
   "cell_type": "code",
   "execution_count": 50,
   "id": "f23d45a5",
   "metadata": {},
   "outputs": [
    {
     "name": "stdout",
     "output_type": "stream",
     "text": [
      "11\tKing\t010-2147-5201\n",
      "12\tSuzan\t010-3697-2145\n",
      "13\tBlake\t010-8520-12501\n",
      "1\t2\t3\n",
      "2\t1\t1\n"
     ]
    }
   ],
   "source": [
    "show_list(load_emps())"
   ]
  },
  {
   "cell_type": "code",
   "execution_count": 51,
   "id": "2327b940",
   "metadata": {
    "scrolled": true
   },
   "outputs": [
    {
     "name": "stdout",
     "output_type": "stream",
     "text": [
      "번호 이름 전화: 3 2 3\n",
      "11\tKing\t010-2147-5201\n",
      "12\tSuzan\t010-3697-2145\n",
      "13\tBlake\t010-8520-12501\n",
      "1\t2\t3\n",
      "2\t1\t1\n",
      "3\t2\t3\n"
     ]
    }
   ],
   "source": [
    "# 키보드에서 num,name,phone을 입력받아서 emps.txt에 한 행으로 추가\n",
    "# 목록보기 기능을 실행하면 추가된 정보가 표시되어야 함\n",
    "\n",
    "num, name, phone = input('번호 이름 전화: ').strip().split() # 키보드에서 한 사원정보를 입력 받는다\n",
    "save_emp(Emp(num,name,phone)) # 사원정보를 파일에저장\n",
    "show_list(load_emps()) # 저장된 데이터 확인, 목록을 화면에 표시한다"
   ]
  },
  {
   "cell_type": "code",
   "execution_count": 40,
   "id": "39673938",
   "metadata": {},
   "outputs": [
    {
     "data": {
      "text/plain": [
       "True"
      ]
     },
     "execution_count": 40,
     "metadata": {},
     "output_type": "execute_result"
    }
   ],
   "source": [
    "# 키보드에서 입력된 사원번호를 키워드로 emps.txt 에서 검색하여\n",
    "# 검색된 사원정보를 화면에 표시한다\n",
    "# find_emp(emp) : Emp객체 리턴\n",
    "# [Emp, Emp, ....]\n",
    "\n",
    "nums = [3,4,5]\n",
    "5 in nums\n",
    "10 in nums # 10==3, 10==4, 10==5\n",
    "\n",
    "emp in emps # emp==emps[0], emp==emps[1], .... "
   ]
  },
  {
   "cell_type": "code",
   "execution_count": 35,
   "id": "2812d00e",
   "metadata": {},
   "outputs": [
    {
     "name": "stdout",
     "output_type": "stream",
     "text": [
      "검색하려는 사원의 번호: 12\n",
      "12\tSuzan\t010-3697-2145\n"
     ]
    }
   ],
   "source": [
    "# 파일 데이터를 로드\n",
    "emplist = load_emps()\n",
    "# 위에서 로드된 리스트로부터 키보드에서 입력된 사원번호의 Emp객체의 포함여부 확인\n",
    "sNum = input('검색하려는 사원의 번호: ')\n",
    "emp = Emp(sNum.strip())\n",
    "\n",
    "found = None\n",
    "if emp in emplist:\n",
    "    found = emplist[emplist.index(emp)]\n",
    "    \n",
    "if found:\n",
    "    print(found)\n",
    "else:\n",
    "    print('검색실패')"
   ]
  },
  {
   "cell_type": "code",
   "execution_count": 36,
   "id": "47fb23de",
   "metadata": {},
   "outputs": [],
   "source": [
    "def find_emp(emp):\n",
    "    found = None\n",
    "    \n",
    "    if emp in load_emps():\n",
    "        found = emplist[emplist.index(emp)]\n",
    "    return found"
   ]
  },
  {
   "cell_type": "code",
   "execution_count": 37,
   "id": "d314f7cb",
   "metadata": {},
   "outputs": [
    {
     "name": "stdout",
     "output_type": "stream",
     "text": [
      "검색하려는 사원의 번호: 12\n",
      "12\tSuzan\t010-3697-2145\n"
     ]
    }
   ],
   "source": [
    "sNum = input('검색하려는 사원의 번호: ')\n",
    "emp = Emp(sNum.strip())\n",
    "found = find_emp(emp)\n",
    "if found:\n",
    "    print(found)\n",
    "else:\n",
    "    print('검색실패')"
   ]
  },
  {
   "cell_type": "code",
   "execution_count": 41,
   "id": "e13dd33c",
   "metadata": {},
   "outputs": [],
   "source": [
    "# 키보드에서 사번, 전화번호를 받아서 해당 사원의 정보를 갱신한다\n",
    "# update_emp(emp) : True/False"
   ]
  },
  {
   "cell_type": "code",
   "execution_count": 46,
   "id": "0a7bc652",
   "metadata": {
    "scrolled": true
   },
   "outputs": [
    {
     "name": "stdout",
     "output_type": "stream",
     "text": [
      "사원번호 전화: 11 010-3333-1111\n",
      "11\tNone\t010-3333-1111\n"
     ]
    }
   ],
   "source": [
    "num, phone = input('사원번호 전화: ').strip().split()\n",
    "key = Emp(num, phone = phone)\n",
    "print(key)"
   ]
  },
  {
   "cell_type": "code",
   "execution_count": 71,
   "id": "7e335c4d",
   "metadata": {},
   "outputs": [],
   "source": [
    "def overwrite(emplist):\n",
    "    try:\n",
    "        with open('emps.txt', 'w') as fobj:\n",
    "            for emp in emplist:\n",
    "                line = \"{} {} {}\".format(emp.num, emp.name, emp.phone)\n",
    "                fobj.write(line + '\\n')\n",
    "        return True\n",
    "    except:\n",
    "        return False"
   ]
  },
  {
   "cell_type": "code",
   "execution_count": 72,
   "id": "4c04ece4",
   "metadata": {},
   "outputs": [],
   "source": [
    "def update_emp(key):\n",
    "    updated = False\n",
    "    emplist = load_emps()\n",
    "    if key in emplist:\n",
    "        emplist[emplist.index(key)].phone = key.phone\n",
    "        updated = overwrite(emplist)\n",
    "    return updated"
   ]
  },
  {
   "cell_type": "code",
   "execution_count": 75,
   "id": "2a8a85f4",
   "metadata": {
    "scrolled": false
   },
   "outputs": [
    {
     "name": "stdout",
     "output_type": "stream",
     "text": [
      "수정성공\n",
      "11\tKing\t010-3333-1111\n",
      "12\tSuzan\t010-3697-2145\n",
      "13\tBlake\t010-8520-12501\n",
      "1\t2\t3\n",
      "2\t1\t1\n",
      "3\t2\t3\n"
     ]
    }
   ],
   "source": [
    "# 사원정보 로드\n",
    "if update_emp(key):\n",
    "    print('수정성공')\n",
    "else:\n",
    "    print('수정실패')\n",
    "    \n",
    "show_list(load_emps())"
   ]
  },
  {
   "cell_type": "code",
   "execution_count": 77,
   "id": "6cff0352",
   "metadata": {},
   "outputs": [],
   "source": [
    "def delete_emp(key):\n",
    "    deleted = False\n",
    "    emplist = load_emps()\n",
    "    if key in emplist:\n",
    "        emplist.remove(key)\n",
    "        deleted = overwrite(emplist)\n",
    "    return deleted"
   ]
  },
  {
   "cell_type": "code",
   "execution_count": 84,
   "id": "779ae16a",
   "metadata": {},
   "outputs": [
    {
     "name": "stdout",
     "output_type": "stream",
     "text": [
      "삭제할 사원의 번호: 13\n"
     ]
    }
   ],
   "source": [
    "# 로드, 리스트에서 삭제대상 찾아서 삭제, 수정된 리스트로 파일 덮어쓰기\n",
    "sNum = input('삭제할 사원의 번호: ')\n",
    "key = Emp(sNum.strip())"
   ]
  },
  {
   "cell_type": "code",
   "execution_count": 85,
   "id": "14d791ee",
   "metadata": {},
   "outputs": [
    {
     "name": "stdout",
     "output_type": "stream",
     "text": [
      "삭제성공\n",
      "12\tSuzan\t010-3697-2145\n",
      "1\t2\t3\n",
      "2\t1\t1\n",
      "3\t2\t3\n"
     ]
    }
   ],
   "source": [
    "if delete_emp(key):\n",
    "    print('삭제성공')\n",
    "else:\n",
    "    print('삭제실패')\n",
    "    \n",
    "show_list(load_emps())"
   ]
  },
  {
   "cell_type": "markdown",
   "id": "a8684afb",
   "metadata": {},
   "source": [
    "# 객체 직렬화(Serialization)\n",
    "* 메모리상에 저장된 객체를 파일이나 네트워크로 전송할 때 필요함"
   ]
  },
  {
   "cell_type": "code",
   "execution_count": 98,
   "id": "acf18ea0",
   "metadata": {},
   "outputs": [],
   "source": [
    "emp = Emp(15, 'Scott', '000-1111-2222')\n",
    "with open('empObj.pickle', 'wb') as fw: # Binary Data(이진 데이터), 텍스트가 아닌걸로 쓰겠다\n",
    "    pickle.dump(emp, fw) # fw 파일에 저장해버리기"
   ]
  }
 ],
 "metadata": {
  "kernelspec": {
   "display_name": "Python 3 (ipykernel)",
   "language": "python",
   "name": "python3"
  },
  "language_info": {
   "codemirror_mode": {
    "name": "ipython",
    "version": 3
   },
   "file_extension": ".py",
   "mimetype": "text/x-python",
   "name": "python",
   "nbconvert_exporter": "python",
   "pygments_lexer": "ipython3",
   "version": "3.9.7"
  }
 },
 "nbformat": 4,
 "nbformat_minor": 5
}
