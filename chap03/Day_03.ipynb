{
 "cells": [
  {
   "cell_type": "markdown",
   "id": "05989536",
   "metadata": {},
   "source": [
    "# 오늘의 주제\n",
    "1. Collecion(정보처리)\n",
    "2. Arguments"
   ]
  },
  {
   "cell_type": "code",
   "execution_count": 3,
   "id": "c93cd599",
   "metadata": {},
   "outputs": [
    {
     "data": {
      "text/plain": [
       "[1, 2, 3, 4, 4, 5]"
      ]
     },
     "execution_count": 3,
     "metadata": {},
     "output_type": "execute_result"
    }
   ],
   "source": [
    "nums = [1,2,3,4,4,5]\n",
    "nums"
   ]
  },
  {
   "cell_type": "code",
   "execution_count": 4,
   "id": "46d0b8fe",
   "metadata": {},
   "outputs": [
    {
     "data": {
      "text/plain": [
       "{1, 2, 3, 4, 5}"
      ]
     },
     "execution_count": 4,
     "metadata": {},
     "output_type": "execute_result"
    }
   ],
   "source": [
    "set(nums)"
   ]
  },
  {
   "cell_type": "code",
   "execution_count": 5,
   "id": "95819c15",
   "metadata": {},
   "outputs": [
    {
     "data": {
      "text/plain": [
       "(6, 5)"
      ]
     },
     "execution_count": 5,
     "metadata": {},
     "output_type": "execute_result"
    }
   ],
   "source": [
    "len(nums),len(set(nums))"
   ]
  },
  {
   "cell_type": "code",
   "execution_count": 6,
   "id": "56499e50",
   "metadata": {},
   "outputs": [
    {
     "name": "stdout",
     "output_type": "stream",
     "text": [
      "데이터 중복 발견\n"
     ]
    }
   ],
   "source": [
    "if len(nums)!=len(set(nums)):\n",
    "    print('데이터 중복 발견')\n",
    "else:\n",
    "    print('데이터 중복 없음')"
   ]
  },
  {
   "cell_type": "code",
   "execution_count": null,
   "id": "f74ca756",
   "metadata": {},
   "outputs": [],
   "source": [
    "# 프로그램이 시작되면, 아래처럼 메뉴 목록을 제시한다\n",
    "# “추가(a), 목록(s), 검색(f), 수정(u), 삭제(d), 종료(x) : “\n",
    "# 이용자가 ‘a’를 입력한 경우,\n",
    "# “사원의 번호 이름 전화: ”\n",
    "# 이용자가 사원정보 3가지를 입력한 경우,\n",
    "# 한 사원의 정보를 Collection에 저장한다\n",
    "# 한개의 기능을 수행한 후에는 다시 원래의 메뉴 목록이 표시된다\n",
    "# 이미 등록된 사원정보 중에서 새로 입력된 사원번호가 중복되지 않아야함 -> set"
   ]
  },
  {
   "cell_type": "code",
   "execution_count": null,
   "id": "ec45570a",
   "metadata": {},
   "outputs": [],
   "source": [
    "emps = []\n",
    "\n",
    "while True:\n",
    "    menu = input(\"추가(a), 목록(s), 검색(f), 수정(u), 삭제(d), 종료(x): \")\n",
    "    if menu.upper() == 'A':\n",
    "        num,name,phone = input(\"사원 번호 이름 전화: \").split()\n",
    "        nums = [user['num'] for user in emps] # 기존 등록된 사원번호\n",
    "        nums.append(num)                      # 새로 추가할 사원번호\n",
    "        if len(nums) != len(set(nums)):       # 사원번호 중복검사\n",
    "            print('사원정보 중복, 다시 입력해주세요')\n",
    "            continue\n",
    "        emps.append({'num':num, 'name':name, 'phone':phone})\n",
    "    elif menu.upper() == 'X':\n",
    "        print('프로그램 종료')\n",
    "        break"
   ]
  },
  {
   "cell_type": "code",
   "execution_count": null,
   "id": "bac92dae",
   "metadata": {},
   "outputs": [],
   "source": [
    "# 목록보기 기능(s)\n",
    "# 이용자가  \"s\"를 선택한 경우 화면에 모든 사원정보를 표시하고\n",
    "# 이어서 화면에 메뉴가 표시된다"
   ]
  },
  {
   "cell_type": "code",
   "execution_count": null,
   "id": "e5d7a935",
   "metadata": {},
   "outputs": [],
   "source": [
    "emps = []"
   ]
  },
  {
   "cell_type": "code",
   "execution_count": null,
   "id": "d172c1c5",
   "metadata": {},
   "outputs": [],
   "source": [
    "while True:\n",
    "    menu = input(\"추가(a), 목록(s), 검색(f), 수정(u), 삭제(d), 종료(x): \")\n",
    "    if menu.upper() == 'A':\n",
    "        num,name,phone = input(\"사원 번호 이름 전화: \").split()\n",
    "        nums = [user['num'] for user in emps] \n",
    "        nums.append(num)                     \n",
    "        if len(nums) != len(set(nums)):       \n",
    "            print('사원정보 중복, 다시 입력해주세요')\n",
    "            continue\n",
    "        emps.append({'num':num, 'name':name, 'phone':phone})\n",
    "        \n",
    "    elif menu.upper()=='S':\n",
    "        for emp in emps:\n",
    "            print(f\"{emp['num']}\\t{emp['name']}\\t{emp['phone']}\")\n",
    "        \n",
    "    elif menu.upper() == 'X':\n",
    "        print('프로그램 종료')\n",
    "        break"
   ]
  },
  {
   "cell_type": "code",
   "execution_count": null,
   "id": "248380a2",
   "metadata": {},
   "outputs": [],
   "source": [
    "# 검색기능 (f)\n",
    "# 이름으로 검색하기, 대소문자 구분없이 검색된 사원정보가 화면에 표시된다"
   ]
  },
  {
   "cell_type": "code",
   "execution_count": null,
   "id": "11ff8e09",
   "metadata": {},
   "outputs": [],
   "source": [
    "emps = []"
   ]
  },
  {
   "cell_type": "code",
   "execution_count": null,
   "id": "25015d12",
   "metadata": {},
   "outputs": [],
   "source": [
    "while True:\n",
    "    print(\"-----------------------------------------------------------\")\n",
    "    menu = input(\"추가(a), 목록(s), 검색(f), 수정(u), 삭제(d), 종료(x): \")\n",
    "    print(\"---------------------------------------------------------\\n\")\n",
    "    \n",
    "    if menu.upper() == 'A':\n",
    "        num,name,phone = input(\"사원 번호 이름 전화: \").split()\n",
    "        nums = [user['num'] for user in emps] \n",
    "        nums.append(num)                     \n",
    "        if len(nums) != len(set(nums)):       \n",
    "            print('사원정보 중복, 다시 입력해주세요')\n",
    "            continue\n",
    "        emps.append({'num':num, 'name':name, 'phone':phone})\n",
    "        \n",
    "    elif menu.upper()=='S':\n",
    "        for emp in emps:\n",
    "            print(f\"{emp['num']}\\t{emp['name']}\\t{emp['phone']}\")\n",
    "            \n",
    "    elif menu.upper()=='F':\n",
    "        ename = input(\"검색할 이름: \")\n",
    "        for emp in emps:\n",
    "            if found == ename:\n",
    "                print(f\"{emp['num']}\\t{emp['name']}\\t{emp['phone']}\")\n",
    "                break\n",
    "            else:\n",
    "                print(\"검색 실패\")\n",
    "        \n",
    "    elif menu.upper() == 'X':\n",
    "        print('프로그램 종료')\n",
    "        break\n",
    "    else:\n",
    "        print('======== 메뉴 입력오류 ========')"
   ]
  },
  {
   "cell_type": "code",
   "execution_count": null,
   "id": "316ebaa8",
   "metadata": {},
   "outputs": [],
   "source": [
    "emps = []"
   ]
  },
  {
   "cell_type": "code",
   "execution_count": null,
   "id": "13d10789",
   "metadata": {},
   "outputs": [],
   "source": [
    "while True:\n",
    "    print(\"-----------------------------------------------------------\")\n",
    "    menu = input(\"추가(a), 목록(s), 검색(f), 수정(u), 삭제(d), 종료(x): \")\n",
    "    print(\"---------------------------------------------------------\\n\")\n",
    "    \n",
    "    if menu.upper() == 'A':\n",
    "        num,name,phone = input(\"사원 번호 이름 전화: \").split()\n",
    "        nums = [user['num'] for user in emps] \n",
    "        nums.append(num)                     \n",
    "        if len(nums) != len(set(nums)):       \n",
    "            print('사원정보 중복, 다시 입력해주세요')\n",
    "            continue\n",
    "        emps.append({'num':num, 'name':name, 'phone':phone})\n",
    "        \n",
    "    elif menu.upper()=='S':\n",
    "        for emp in emps:\n",
    "            print(f\"{emp['num']}\\t{emp['name']}\\t{emp['phone']}\")\n",
    "            \n",
    "    elif menu.upper()=='F':\n",
    "            ename = input(\"검색할 이름: \")\n",
    "            found = False\n",
    "            for emp in emps:\n",
    "                if emp['name']==ename:\n",
    "                    print(f\"{emp['num']}\\t{emp['name']}\\t{emp['phone']}\")\n",
    "                    found = True\n",
    "                    break\n",
    "            if not found:\n",
    "                    print(\"검색 실패\")\n",
    "        \n",
    "    elif menu.upper() == 'X':\n",
    "        print('프로그램 종료')\n",
    "        break\n",
    "    else:\n",
    "        print('======== 메뉴 입력오류 ========')"
   ]
  },
  {
   "cell_type": "code",
   "execution_count": null,
   "id": "dbbf2249",
   "metadata": {},
   "outputs": [],
   "source": [
    "# 수정기능 (u)\n",
    "# 이용자가 'u'를 선택한 경우,\n",
    "# \"수정할 사원번호 전화번호\" \n",
    "# 입력된 사원번호로 검색하여 해당 사원의 전화번호를 갱신한 후\n",
    "# \"수정성공\" \"수정실패\" 메세지 출력"
   ]
  },
  {
   "cell_type": "code",
   "execution_count": null,
   "id": "0eaf37d8",
   "metadata": {},
   "outputs": [],
   "source": [
    "emps = []"
   ]
  },
  {
   "cell_type": "code",
   "execution_count": null,
   "id": "dc31c394",
   "metadata": {
    "scrolled": true
   },
   "outputs": [],
   "source": [
    "while True:\n",
    "    print(\"-----------------------------------------------------------\")\n",
    "    menu = input(\"추가(a), 목록(s), 검색(f), 수정(u), 삭제(d), 종료(x): \")\n",
    "    print(\"---------------------------------------------------------\\n\")\n",
    "    \n",
    "    if menu.upper() == 'A':\n",
    "        num,name,phone = input(\"사원 번호 이름 전화: \").split()\n",
    "        nums = [user['num'] for user in emps] \n",
    "        nums.append(num)                     \n",
    "        if len(nums) != len(set(nums)):       \n",
    "            print('사원정보 중복, 다시 입력해주세요')\n",
    "            continue\n",
    "        emps.append({'num':num, 'name':name, 'phone':phone})\n",
    "        \n",
    "    elif menu.upper()=='S':\n",
    "        for emp in emps:\n",
    "            print(f\"{emp['num']}\\t{emp['name']}\\t{emp['phone']}\")\n",
    "            \n",
    "    elif menu.upper()=='F':\n",
    "            ename = input(\"검색할 이름: \")\n",
    "            found = False\n",
    "            for emp in emps:\n",
    "                if emp['name']==ename:\n",
    "                    print(f\"{emp['num']}\\t{emp['name']}\\t{emp['phone']}\")\n",
    "                    found = True\n",
    "                    break\n",
    "            if not found:\n",
    "                    print(\"검색 실패\")\n",
    "                    \n",
    "    elif menu.upper()=='U':\n",
    "        num,phone=input(\"수정할 사원번호 및 전화번호: \").split()\n",
    "        updated = False\n",
    "        for emp in emps:\n",
    "            if emp['num']==num:\n",
    "                emp['phone']=phone\n",
    "                updated = True\n",
    "                print(\"수정성공\")\n",
    "                break\n",
    "        if not updated:\n",
    "            print(\"수정실패\")\n",
    "                \n",
    "    elif menu.upper() == 'X':\n",
    "        print('프로그램 종료')\n",
    "        break\n",
    "    else:\n",
    "        print('======== 메뉴 입력오류 ========')"
   ]
  },
  {
   "cell_type": "code",
   "execution_count": null,
   "id": "513c7481",
   "metadata": {},
   "outputs": [],
   "source": [
    "# 삭제기능(d)\n",
    "# 이용자가 'd'를 선택한 경우,\n",
    "# \"삭제할 사원번호:\"\n",
    "# 삭제 후 \"삭제 성공/실패\""
   ]
  },
  {
   "cell_type": "code",
   "execution_count": null,
   "id": "8a2a2068",
   "metadata": {},
   "outputs": [],
   "source": [
    "emps = []"
   ]
  },
  {
   "cell_type": "code",
   "execution_count": null,
   "id": "eab5dc0f",
   "metadata": {
    "scrolled": true
   },
   "outputs": [],
   "source": [
    "while True:\n",
    "    print(\"-----------------------------------------------------------\")\n",
    "    menu = input(\"추가(a), 목록(s), 검색(f), 수정(u), 삭제(d), 종료(x): \")\n",
    "    print(\"---------------------------------------------------------\\n\")\n",
    "    \n",
    "    if menu.upper() == 'A':\n",
    "        num,name,phone = input(\"사원 번호 이름 전화: \").split() # 여러개 split\n",
    "        nums = [user['num'] for user in emps] \n",
    "        nums.append(num)                     \n",
    "        if len(nums) != len(set(nums)):       \n",
    "            print('사원정보 중복, 다시 입력해주세요')\n",
    "            continue\n",
    "        emps.append({'num':num, 'name':name, 'phone':phone})\n",
    "        \n",
    "    elif menu.upper()=='S':\n",
    "        for emp in emps:\n",
    "            print(f\"{emp['num']}\\t{emp['name']}\\t{emp['phone']}\")\n",
    "            \n",
    "    elif menu.upper()=='F':\n",
    "            ename = input(\"검색할 이름: \")\n",
    "            found = False\n",
    "            for emp in emps:\n",
    "                if emp['name']==ename:\n",
    "                    print(f\"{emp['num']}\\t{emp['name']}\\t{emp['phone']}\")\n",
    "                    found = True\n",
    "                    break\n",
    "            if not found:\n",
    "                    print(\"검색 실패\")\n",
    "                    \n",
    "    elif menu.upper()=='U':\n",
    "        num,phone=input(\"수정할 사원번호 및 전화번호: \").split()\n",
    "        updated = False\n",
    "        for emp in emps:\n",
    "            if emp['num']==num:\n",
    "                emp['phone']=phone\n",
    "                updated = True\n",
    "                print(\"수정성공\")\n",
    "                break\n",
    "        if not updated:\n",
    "            print(\"수정실패\")\n",
    "            \n",
    "    elif menu.upper()=='D':\n",
    "        num=input(\"삭제할 회원번호: \").strip() # 한개 strip\n",
    "        deleted = False\n",
    "        for emp in emps:\n",
    "            if emp['num']==num:\n",
    "                emps.remove(emp)\n",
    "                deleted = True\n",
    "                print(\"삭제성공\")\n",
    "        if not deleted:\n",
    "            print(\"삭제실패\")\n",
    "                \n",
    "    elif menu.upper() == 'X':\n",
    "        print('프로그램 종료')\n",
    "        break\n",
    "    else:\n",
    "        print('======== 메뉴 입력오류 ========')"
   ]
  },
  {
   "cell_type": "code",
   "execution_count": null,
   "id": "169c80a9",
   "metadata": {},
   "outputs": [],
   "source": [
    "emps = []"
   ]
  },
  {
   "cell_type": "code",
   "execution_count": null,
   "id": "d1fd0888",
   "metadata": {},
   "outputs": [],
   "source": [
    "# 중복인지 아닌지를 검사해서 그 결과를 리턴하는 함수 작성\n",
    "# is_duplicate True: 중복됨, False: 중복아님\n",
    "\n",
    "def is_duplicate(num):\n",
    "    nums = [emp['num'] for emp in emps]\n",
    "    nums.append(num)\n",
    "    if len(nums) != len(set(nums)):\n",
    "        return True\n",
    "    else:\n",
    "        return False"
   ]
  },
  {
   "cell_type": "code",
   "execution_count": null,
   "id": "93cd8686",
   "metadata": {},
   "outputs": [],
   "source": [
    "# 목록보기 기능 -> emp_list()\n",
    "\n",
    "def emp_list():\n",
    "    for emp in emps:\n",
    "        print(f\"{emp['num']}\\t{emp['name']}\\t{emp['phone']}\")"
   ]
  },
  {
   "cell_type": "code",
   "execution_count": null,
   "id": "c8f80a61",
   "metadata": {},
   "outputs": [],
   "source": [
    "# 검색기능 : 이름을 파라미터로 받아서 해당 사원의 정보를 검색하고 리턴한다\n",
    "# - 검색결과가 없는 경우에는 None을 리턴\n",
    "# - find_emp(name):\n",
    "\n",
    "def find_emp(name):\n",
    "    for emp in emps:\n",
    "        if emp['name']==name:\n",
    "            return emp\n",
    "    return None"
   ]
  },
  {
   "cell_type": "code",
   "execution_count": null,
   "id": "75193376",
   "metadata": {},
   "outputs": [],
   "source": [
    "# 수정기능 : (num, phone)을 받아서 목록을 수정하고 성공시 True,\n",
    "# 실패시 False 리턴\n",
    "# - update_emp(tuple)\n",
    "\n",
    "def update_emp(new_phone):\n",
    "    num, phone = new_phone\n",
    "    updated = False\n",
    "    for emp in emps:\n",
    "        if emp['num']==num:\n",
    "            emp['phone'] = phone\n",
    "            updated = True\n",
    "    return updated # 함수안에 리턴은 한번만 쓰는게 좋다"
   ]
  },
  {
   "cell_type": "code",
   "execution_count": null,
   "id": "36ce819e",
   "metadata": {},
   "outputs": [],
   "source": [
    "# 삭제기능 : 사원번호를 받아서 해당 사원정보를 삭제하고 True, 실패시 False 리턴\n",
    "# - delete_emp(num):\n",
    "\n",
    "def delete_emp(num):\n",
    "    deleted = False\n",
    "    for emp in emps:\n",
    "        if emp['num']==num:\n",
    "            emps.remove(emp)\n",
    "            deleted = True\n",
    "    return deleted"
   ]
  },
  {
   "cell_type": "code",
   "execution_count": null,
   "id": "8248083d",
   "metadata": {},
   "outputs": [],
   "source": [
    "while True:\n",
    "    print(\"-----------------------------------------------------------\")\n",
    "    menu = input(\"추가(a), 목록(s), 검색(f), 수정(u), 삭제(d), 종료(x): \")\n",
    "    print(\"---------------------------------------------------------\\n\")\n",
    "    \n",
    "    if menu.upper() == 'A':\n",
    "        num,name,phone = input(\"사원 번호 이름 전화: \").split()\n",
    "        if is_duplicate(num):                   \n",
    "            print('사원정보 중복, 다시 입력해주세요')\n",
    "            continue\n",
    "        emps.append({'num':num, 'name':name, 'phone':phone})\n",
    "        print(\"사원정보 저장 성공\")\n",
    "        \n",
    "    elif menu.upper()=='S':\n",
    "        emp_list()\n",
    "        \n",
    "    elif menu.upper()=='F':\n",
    "        ename = input(\"검색할 사원이름: \")\n",
    "        emp = find_emp(ename)\n",
    "        if emp:\n",
    "            print(f\"{emp['num']}\\t{emp['name']}\\t{emp['phone']}\")\n",
    "        else:\n",
    "            print(\"해당 이름의 사원정보는 없음\")\n",
    "                    \n",
    "    elif menu.upper()=='U':\n",
    "        num,phone = input(\"수정할 사원번호 및 전화번호: \").split()\n",
    "        if update_emp((num,phone)):\n",
    "            print(\"수정성공\")\n",
    "        else:\n",
    "            print(\"수정실패\")\n",
    "            \n",
    "    elif menu.upper()=='D':\n",
    "        num=input(\"삭제할 회원번호: \").strip()\n",
    "        if delete_emp(num):\n",
    "            print('삭제 성공')\n",
    "        else:\n",
    "            print('삭제 실패')\n",
    "                \n",
    "    elif menu.upper() == 'X':\n",
    "        print('프로그램 종료')\n",
    "        break\n",
    "    else:\n",
    "        print('======== 메뉴 입력오류 ========')"
   ]
  },
  {
   "cell_type": "code",
   "execution_count": null,
   "id": "2b181b12",
   "metadata": {},
   "outputs": [],
   "source": [
    "# import 종류 3가지"
   ]
  },
  {
   "cell_type": "code",
   "execution_count": null,
   "id": "6ea3094e",
   "metadata": {},
   "outputs": [],
   "source": [
    "import pizza"
   ]
  },
  {
   "cell_type": "code",
   "execution_count": null,
   "id": "45d998ff",
   "metadata": {},
   "outputs": [],
   "source": [
    "pizza.make_pizza(16, 'pepperoni')\n",
    "pizza.make_pizza(12, 'mushrooms', 'green peppers', 'extra cheese')"
   ]
  },
  {
   "cell_type": "code",
   "execution_count": null,
   "id": "9d7fc86d",
   "metadata": {},
   "outputs": [],
   "source": [
    "pizza.add(3,5)"
   ]
  },
  {
   "cell_type": "code",
   "execution_count": null,
   "id": "f20bfcee",
   "metadata": {},
   "outputs": [],
   "source": [
    "from pizza import add\n",
    "add(3,5)"
   ]
  },
  {
   "cell_type": "code",
   "execution_count": null,
   "id": "d1c30063",
   "metadata": {},
   "outputs": [],
   "source": [
    "import pizza as p\n",
    "p.add(3,5)"
   ]
  },
  {
   "cell_type": "code",
   "execution_count": null,
   "id": "3e488046",
   "metadata": {},
   "outputs": [],
   "source": [
    "import mymodule as mm"
   ]
  },
  {
   "cell_type": "code",
   "execution_count": null,
   "id": "f192128b",
   "metadata": {},
   "outputs": [],
   "source": [
    "mm.show('Smith', 'Ward', 'King')"
   ]
  },
  {
   "cell_type": "code",
   "execution_count": null,
   "id": "e66c146b",
   "metadata": {},
   "outputs": [],
   "source": [
    "from mymodule import show as s\n",
    "s('Smith', 'Ward', 'King')"
   ]
  },
  {
   "cell_type": "code",
   "execution_count": 5,
   "id": "4ccd504d",
   "metadata": {},
   "outputs": [
    {
     "name": "stdout",
     "output_type": "stream",
     "text": [
      "Hello module\n",
      "3+5=8\n"
     ]
    }
   ],
   "source": [
    "from pizza import *\n",
    "test()\n",
    "add(3,5)"
   ]
  },
  {
   "cell_type": "markdown",
   "id": "bee96cf1",
   "metadata": {},
   "source": [
    "# 클래스 실습\n",
    "* 클래스와 인스턴스\n",
    "* 초기자, __init__()\n",
    "* 인스턴스 메소드 : 인스턴스에 포함된 메소드"
   ]
  },
  {
   "cell_type": "code",
   "execution_count": 20,
   "id": "21edfdc8",
   "metadata": {},
   "outputs": [],
   "source": [
    "class Emp:\n",
    "    \n",
    "    def __init__(self, num, name, phone):\n",
    "        self.num = num\n",
    "        self.name = name\n",
    "        self.phone = phone\n",
    "        \n",
    "    def __str__(self):\n",
    "        return(f\"{self.num}\\t{self.name}\\t{self.phone}\")\n",
    "    \n",
    "    def __eq__(self, other):\n",
    "        return self.num==other.num"
   ]
  },
  {
   "cell_type": "code",
   "execution_count": 21,
   "id": "a706069e",
   "metadata": {},
   "outputs": [
    {
     "name": "stdout",
     "output_type": "stream",
     "text": [
      "11\tSmith\t010-3547-6510\n"
     ]
    }
   ],
   "source": [
    "e1 = Emp(11, 'Smith', '010-3547-6510')\n",
    "print(e1)"
   ]
  },
  {
   "cell_type": "code",
   "execution_count": 39,
   "id": "25c5d6f1",
   "metadata": {},
   "outputs": [
    {
     "name": "stdout",
     "output_type": "stream",
     "text": [
      "12\tBlake\t010-3271-1290\n"
     ]
    }
   ],
   "source": [
    "e2 = Emp(12, 'Blake', '010-3271-1290')\n",
    "print(e2)"
   ]
  },
  {
   "cell_type": "code",
   "execution_count": 23,
   "id": "3f922536",
   "metadata": {},
   "outputs": [
    {
     "data": {
      "text/plain": [
       "False"
      ]
     },
     "execution_count": 23,
     "metadata": {},
     "output_type": "execute_result"
    }
   ],
   "source": [
    "e1.__eq__(e2)"
   ]
  },
  {
   "cell_type": "code",
   "execution_count": 35,
   "id": "3e937595",
   "metadata": {},
   "outputs": [
    {
     "data": {
      "text/plain": [
       "True"
      ]
     },
     "execution_count": 35,
     "metadata": {},
     "output_type": "execute_result"
    }
   ],
   "source": [
    "e3 = Emp(12, '', '')\n",
    "\n",
    "e2.__eq__(e3)"
   ]
  },
  {
   "cell_type": "code",
   "execution_count": 36,
   "id": "a49a3ab9",
   "metadata": {
    "scrolled": true
   },
   "outputs": [
    {
     "data": {
      "text/plain": [
       "True"
      ]
     },
     "execution_count": 36,
     "metadata": {},
     "output_type": "execute_result"
    }
   ],
   "source": [
    "e2==e3"
   ]
  },
  {
   "cell_type": "code",
   "execution_count": 37,
   "id": "f24be5e6",
   "metadata": {},
   "outputs": [
    {
     "data": {
      "text/plain": [
       "False"
      ]
     },
     "execution_count": 37,
     "metadata": {},
     "output_type": "execute_result"
    }
   ],
   "source": [
    "e1==e2"
   ]
  },
  {
   "cell_type": "code",
   "execution_count": 40,
   "id": "3f82366a",
   "metadata": {},
   "outputs": [
    {
     "name": "stdout",
     "output_type": "stream",
     "text": [
      "11\tSmith\t010-3547-6510\n",
      "12\tBlake\t010-3271-1290\n"
     ]
    }
   ],
   "source": [
    "emp_list = [e1, e2]\n",
    "for e in emp_list:\n",
    "    print(e)"
   ]
  }
 ],
 "metadata": {
  "kernelspec": {
   "display_name": "Python 3 (ipykernel)",
   "language": "python",
   "name": "python3"
  },
  "language_info": {
   "codemirror_mode": {
    "name": "ipython",
    "version": 3
   },
   "file_extension": ".py",
   "mimetype": "text/x-python",
   "name": "python",
   "nbconvert_exporter": "python",
   "pygments_lexer": "ipython3",
   "version": "3.9.7"
  }
 },
 "nbformat": 4,
 "nbformat_minor": 5
}
