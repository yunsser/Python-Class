{
 "cells": [
  {
   "cell_type": "markdown",
   "id": "d1b91513",
   "metadata": {},
   "source": [
    "# 오늘의 주제\n",
    "* pickle모듈을 사용한 직렬화/역직렬화 응용 CRUD"
   ]
  },
  {
   "cell_type": "markdown",
   "id": "9d0473db",
   "metadata": {},
   "source": [
    "### Serialization_Ex"
   ]
  },
  {
   "cell_type": "code",
   "execution_count": null,
   "id": "923e9205",
   "metadata": {},
   "outputs": [],
   "source": [
    "from emp import Emp"
   ]
  },
  {
   "cell_type": "code",
   "execution_count": null,
   "id": "e1e62860",
   "metadata": {},
   "outputs": [],
   "source": [
    "import pickle"
   ]
  },
  {
   "cell_type": "code",
   "execution_count": null,
   "id": "bedd2f8b",
   "metadata": {},
   "outputs": [],
   "source": [
    "emp = Emp(11, 'Smith', '010-2394-5410')"
   ]
  },
  {
   "cell_type": "markdown",
   "id": "cea02bfb",
   "metadata": {},
   "source": [
    "### 객체 직렬화(Object Serialization)\n",
    "* 메모리상에 저장된 객체를 파일이나 네트워크로 전송할 때 필요함"
   ]
  },
  {
   "cell_type": "code",
   "execution_count": null,
   "id": "aaaee93a",
   "metadata": {},
   "outputs": [],
   "source": [
    "# 객체 직렬화 (Serialization)\n",
    "fw = open('empObj.pickle', 'wb')\n",
    "pickle.dump(emp,fw)\n",
    "fw.close()\n",
    "print('객체 직렬화 성공')"
   ]
  },
  {
   "cell_type": "markdown",
   "id": "ecc68093",
   "metadata": {},
   "source": [
    "### 역직렬화(De-Serialization)"
   ]
  },
  {
   "cell_type": "code",
   "execution_count": null,
   "id": "6026d24c",
   "metadata": {},
   "outputs": [],
   "source": [
    "fr = open('empObj.pickle', 'rb')\n",
    "emp2 = pickle.load(fr)\n",
    "fr.close()\n",
    "print(emp2)\n",
    "print(emp2.name)"
   ]
  },
  {
   "cell_type": "code",
   "execution_count": null,
   "id": "6ab26819",
   "metadata": {},
   "outputs": [],
   "source": [
    "emp == emp2 # emp.__eq__(emp2)"
   ]
  },
  {
   "cell_type": "code",
   "execution_count": null,
   "id": "f875190c",
   "metadata": {},
   "outputs": [],
   "source": [
    "emplist = [Emp(11), Emp(12), Emp(13)]"
   ]
  },
  {
   "cell_type": "code",
   "execution_count": null,
   "id": "87f86caf",
   "metadata": {},
   "outputs": [],
   "source": [
    "fw = open('emplist.pickle', 'wb')\n",
    "pickle.dump(emplist, fw)\n",
    "fw.close()\n",
    "\n",
    "print('리스트 직렬화 완료')"
   ]
  },
  {
   "cell_type": "code",
   "execution_count": null,
   "id": "574a2c8a",
   "metadata": {},
   "outputs": [],
   "source": [
    "fr = open('emplist.pickle', 'rb')\n",
    "emps = pickle.load(fr)\n",
    "fr.close()\n",
    "\n",
    "print(emps[0])\n",
    "print('리스트 역직렬화 성공')"
   ]
  },
  {
   "cell_type": "code",
   "execution_count": null,
   "id": "464b84c8",
   "metadata": {},
   "outputs": [],
   "source": [
    "# 객체 > 텍스트 파일, 텍스트 > 객체 매핑\n",
    "# 객체 > 객체, 객체 > 객체"
   ]
  },
  {
   "cell_type": "code",
   "execution_count": null,
   "id": "e93a64a6",
   "metadata": {},
   "outputs": [],
   "source": [
    "# 프로그램이 시작되면 메뉴 6개가 표시된다\n",
    "# 목록(s), 추가(a), 검색(f), 수정(u), 삭제(d), 종료(x)\n",
    "# 추가(a)하고 목록보기가 되도록 기능을 작성해보세요"
   ]
  },
  {
   "cell_type": "code",
   "execution_count": null,
   "id": "91497e88",
   "metadata": {},
   "outputs": [],
   "source": [
    "import pickle\n",
    "from emp import Emp"
   ]
  },
  {
   "cell_type": "code",
   "execution_count": null,
   "id": "545a5b5f",
   "metadata": {},
   "outputs": [],
   "source": [
    "emplist = []"
   ]
  },
  {
   "cell_type": "code",
   "execution_count": null,
   "id": "fa6cb192",
   "metadata": {},
   "outputs": [],
   "source": [
    "def save_emplist():\n",
    "    saved = False\n",
    "    try:\n",
    "        with open('crud_list.pickle','wb') as fout:\n",
    "            pickle.dump(emplist, fout)\n",
    "            saved = True\n",
    "    except:\n",
    "        pass\n",
    "    return saved"
   ]
  },
  {
   "cell_type": "code",
   "execution_count": null,
   "id": "c3ffd79d",
   "metadata": {},
   "outputs": [],
   "source": [
    "def add_emp(emp):\n",
    "    emplist.append(emp)\n",
    "    return save_emplist()"
   ]
  },
  {
   "cell_type": "code",
   "execution_count": null,
   "id": "337f555b",
   "metadata": {},
   "outputs": [],
   "source": [
    "def show_list():\n",
    "    with open('crud_list.pickle','rb') as fin:\n",
    "        elist = pickle.load(fin)\n",
    "        # elist.sort(key=lambda e:e.num)\n",
    "        elist.sort(key=lambda e:int(e.num))\n",
    "        for e in elist:\n",
    "            print(e)"
   ]
  },
  {
   "cell_type": "code",
   "execution_count": null,
   "id": "a75a52d1",
   "metadata": {},
   "outputs": [],
   "source": [
    "def find_emp(emp):\n",
    "    found = None\n",
    "    with open('crud_list.pickle','rb') as fin:\n",
    "        elist = pickle.load(fin)\n",
    "        if emp in elist:\n",
    "            found = elist[elist.index(emp)]\n",
    "    return found"
   ]
  },
  {
   "cell_type": "code",
   "execution_count": null,
   "id": "a7ef2b5a",
   "metadata": {},
   "outputs": [],
   "source": [
    "def update_emp(emp):\n",
    "    updated = None\n",
    "    global emplist # 현재 함수 외부에 선언된 변수(global)\n",
    "    with open('crud_list.pickle', 'rb') as fin:\n",
    "        emplist = pickle.load(fin)\n",
    "        if emp in emplist:\n",
    "            emplist[emplist.index(emp)].phone = emp.phone\n",
    "            updated = save_emplist()\n",
    "    return updated"
   ]
  },
  {
   "cell_type": "code",
   "execution_count": null,
   "id": "61604213",
   "metadata": {},
   "outputs": [],
   "source": [
    "def delete_emp(emp):\n",
    "    global emplist\n",
    "    deleted = False\n",
    "    with open('crud_list.pickle', 'rb') as fin:\n",
    "        emplist = pickle.load(fin)\n",
    "        if emp in emplist:\n",
    "            emplist.remove(emp)\n",
    "            deleted = save_emplist()\n",
    "    return deleted"
   ]
  },
  {
   "cell_type": "code",
   "execution_count": null,
   "id": "721252d8",
   "metadata": {},
   "outputs": [],
   "source": [
    "def is_duplicate(emp):\n",
    "    with open('crud_list.pickle','rb') as fin:\n",
    "        emplist = pickle.load(fin)\n",
    "        if emp in emplist:\n",
    "            return True\n",
    "    return False"
   ]
  },
  {
   "cell_type": "code",
   "execution_count": null,
   "id": "5ddb3278",
   "metadata": {},
   "outputs": [],
   "source": [
    "while True:\n",
    "    menu = input('목록(s), 추가(a), 검색(f), 수정(u), 삭제(d), 종료(x)')\n",
    "    \n",
    "    if menu.upper()=='A':\n",
    "        num, name, phone = input('사원번호 이름 전화번호').strip().split()\n",
    "        emp = Emp(num, name, phone)\n",
    "        if is_duplicate(emp):\n",
    "            print('번호중복, 추가실패!')\n",
    "            continue\n",
    "        if add_emp(emp):\n",
    "            print('사원정보 추가 성공')\n",
    "        else:\n",
    "            print('사원정보 추가 실패')\n",
    "    elif menu.upper()==\"S\":\n",
    "        show_list()\n",
    "    elif menu.upper()==\"F\":\n",
    "        sNum = input('검색할 사원번호: ').strip()\n",
    "        found = find_emp(Emp(sNum))\n",
    "        if found:\n",
    "            print(found)\n",
    "        else:\n",
    "            print('검색 실패')\n",
    "    elif menu.upper()==\"U\":\n",
    "        num,phone = input('변경할 사원번호 전화번호').strip().split()\n",
    "        if update_emp(Emp(num, phone=phone)):\n",
    "            print('수정 성공')\n",
    "        else:\n",
    "            print('수정 성공')\n",
    "    elif menu.upper()==\"D\":\n",
    "        sNum = input('삭제할 사원번호').strip()\n",
    "        if delete_emp(Emp(sNum)):\n",
    "            print('삭제 성공')\n",
    "        else:\n",
    "            print('삭제 실패')\n",
    "    elif menu.upper()==\"X\":\n",
    "        break;\n",
    "    else:\n",
    "        print('메뉴입력 오류')\n",
    "\n",
    "print('프로그램 종료....')"
   ]
  },
  {
   "cell_type": "code",
   "execution_count": null,
   "id": "ee3d29f0",
   "metadata": {},
   "outputs": [],
   "source": [
    "with open('crud_list.pickle','rb') as fin:\n",
    "        elist = pickle.load(fin)\n",
    "elist\n",
    "for e in elist:\n",
    "    print(e)"
   ]
  },
  {
   "cell_type": "code",
   "execution_count": null,
   "id": "56e4dc9a",
   "metadata": {},
   "outputs": [],
   "source": [
    "elist\n",
    "byte_arr = pickle.dumps(elist)\n",
    "print(byte_arr)"
   ]
  },
  {
   "cell_type": "code",
   "execution_count": null,
   "id": "7440f6f6",
   "metadata": {},
   "outputs": [],
   "source": [
    "elist2 = pickle.loads(byte_arr)\n",
    "for e in elist2:\n",
    "    print(e)"
   ]
  },
  {
   "cell_type": "code",
   "execution_count": null,
   "id": "48aaf6e4",
   "metadata": {},
   "outputs": [],
   "source": [
    "# elist.sort() # 객체를 정렬해라는 오류남 # 객체의 어떤 값을 지정해서 정렬하라고 해야 오류안남\n",
    "elist.sort(key=lambda e:e.num) # 람다식\n",
    "for e in elist:\n",
    "    print(e)"
   ]
  },
  {
   "cell_type": "code",
   "execution_count": null,
   "id": "4e2db04d",
   "metadata": {},
   "outputs": [],
   "source": [
    "nums = [3,5,1,4,2]\n",
    "sorted(nums)\n",
    "nums.sort()\n",
    "nums"
   ]
  },
  {
   "cell_type": "code",
   "execution_count": null,
   "id": "749dd813",
   "metadata": {},
   "outputs": [],
   "source": [
    "outer_num = 100"
   ]
  },
  {
   "cell_type": "code",
   "execution_count": null,
   "id": "b272a43a",
   "metadata": {},
   "outputs": [],
   "source": [
    "def value_use():\n",
    "    print(outer_num + 10)"
   ]
  },
  {
   "cell_type": "code",
   "execution_count": null,
   "id": "94d5567c",
   "metadata": {},
   "outputs": [],
   "source": [
    "value_use()"
   ]
  },
  {
   "cell_type": "code",
   "execution_count": null,
   "id": "e5cd4277",
   "metadata": {},
   "outputs": [],
   "source": [
    "def value_change():\n",
    "    global outer_num\n",
    "    outer_num = 10 # 지역변수 > 전역변수, global로 선언\n",
    "    print(outer_num)  # 10"
   ]
  },
  {
   "cell_type": "code",
   "execution_count": null,
   "id": "ca024d57",
   "metadata": {},
   "outputs": [],
   "source": [
    "value_change()"
   ]
  },
  {
   "cell_type": "code",
   "execution_count": null,
   "id": "c32ec1d3",
   "metadata": {},
   "outputs": [],
   "source": [
    "outer_num"
   ]
  },
  {
   "cell_type": "code",
   "execution_count": null,
   "id": "4d89bb5b",
   "metadata": {},
   "outputs": [],
   "source": [
    "def value_use2():\n",
    "    num = outer_num + 100\n",
    "    print(num)"
   ]
  },
  {
   "cell_type": "code",
   "execution_count": null,
   "id": "bff69068",
   "metadata": {},
   "outputs": [],
   "source": [
    "value_use2()"
   ]
  },
  {
   "cell_type": "code",
   "execution_count": null,
   "id": "59e6b3d0",
   "metadata": {
    "scrolled": true
   },
   "outputs": [],
   "source": [
    "# dumps(), loads()\n",
    "emplist"
   ]
  },
  {
   "cell_type": "markdown",
   "id": "1736950e",
   "metadata": {},
   "source": [
    "### Thread_Ex"
   ]
  },
  {
   "cell_type": "code",
   "execution_count": null,
   "id": "24db59be",
   "metadata": {},
   "outputs": [],
   "source": [
    "# Thread, Runnable, run()\n",
    "# Process : 현재 실행중인 프로그램\n",
    "# Process 안에서 동시에 실행 가능한 소규모 Process"
   ]
  },
  {
   "cell_type": "code",
   "execution_count": null,
   "id": "fd7ced73",
   "metadata": {},
   "outputs": [],
   "source": [
    "# 함수, 메소드, run()"
   ]
  },
  {
   "cell_type": "code",
   "execution_count": null,
   "id": "5409391e",
   "metadata": {},
   "outputs": [],
   "source": [
    "import threading\n",
    "import time\n",
    "import datetime"
   ]
  },
  {
   "cell_type": "code",
   "execution_count": null,
   "id": "37aac427",
   "metadata": {},
   "outputs": [],
   "source": [
    "def t1(name):\n",
    "    while True:\n",
    "        print(name, datetime.datetime.now())\n",
    "        time.sleep(1)"
   ]
  },
  {
   "cell_type": "code",
   "execution_count": null,
   "id": "99a8de6e",
   "metadata": {},
   "outputs": [],
   "source": [
    "# t1('Date Thread')"
   ]
  },
  {
   "cell_type": "code",
   "execution_count": null,
   "id": "228bf834",
   "metadata": {},
   "outputs": [],
   "source": [
    "def t2(name):\n",
    "    i = 0\n",
    "    while True:\n",
    "        i += 1\n",
    "        print(name, i)\n",
    "        time.sleep(1)"
   ]
  },
  {
   "cell_type": "code",
   "execution_count": null,
   "id": "96f3a89c",
   "metadata": {},
   "outputs": [],
   "source": [
    "# t2('Num Thread')"
   ]
  },
  {
   "cell_type": "code",
   "execution_count": null,
   "id": "9e21cd41",
   "metadata": {},
   "outputs": [],
   "source": [
    "th1 = threading.Thread(target=t1, args=('Date Thread',))\n",
    "th1.daemon = True\n",
    "th1.start()\n",
    "\n",
    "th2 = threading.Thread(target=t2, args=('Num Thread',))\n",
    "th2.daemon = True\n",
    "th2.start()"
   ]
  },
  {
   "cell_type": "code",
   "execution_count": null,
   "id": "406ebeaf",
   "metadata": {},
   "outputs": [],
   "source": [
    "# 객체의 멤버 메소드를 쓰레드의 타켓으로 설정하는 예\n",
    "# threading. Thread(target=obj.method), args=('Date Thread',))"
   ]
  },
  {
   "cell_type": "code",
   "execution_count": null,
   "id": "a7fab9d8",
   "metadata": {},
   "outputs": [],
   "source": [
    "import threading\n",
    "import datetime\n",
    "import time\n",
    "\n",
    "# 가상의 CPU역활을 하는 클래스 정의\n",
    "class MyGame(threading.Thread): # Thread 클래스 상속\n",
    "    def __init__(self, name):\n",
    "        threading.Thread.__init__(self)\n",
    "        print(name, 'instanciated')\n",
    "        self.daemon = True\n",
    "    \n",
    "    def run(self):\n",
    "        while True:\n",
    "            print(datetime.datetime.now())\n",
    "            time.sleep(1) # 1초 쉼\n",
    "    \n",
    "my_thread = MyGame('game thread')\n",
    "# my_thread.daemon = True\n",
    "my_thread.start()"
   ]
  }
 ],
 "metadata": {
  "kernelspec": {
   "display_name": "Python 3 (ipykernel)",
   "language": "python",
   "name": "python3"
  },
  "language_info": {
   "codemirror_mode": {
    "name": "ipython",
    "version": 3
   },
   "file_extension": ".py",
   "mimetype": "text/x-python",
   "name": "python",
   "nbconvert_exporter": "python",
   "pygments_lexer": "ipython3",
   "version": "3.9.7"
  }
 },
 "nbformat": 4,
 "nbformat_minor": 5
}
