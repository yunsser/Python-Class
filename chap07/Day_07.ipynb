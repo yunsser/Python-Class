{
 "cells": [
  {
   "cell_type": "markdown",
   "id": "f7f12d31",
   "metadata": {},
   "source": [
    "# 오늘의 주제\n",
    "* CountDownThread"
   ]
  },
  {
   "cell_type": "code",
   "execution_count": 4,
   "id": "5d3a08e7",
   "metadata": {},
   "outputs": [],
   "source": [
    "import threading\n",
    "import time\n",
    "import datetime\n",
    "\n",
    "class CountDownThread(threading.Thread):\n",
    "    def __init__(self,name,num):\n",
    "        threading.Thread.__init__(self)\n",
    "        self.name=name\n",
    "        self.num=num\n",
    "        print(name, 'instanciated')\n",
    "        self.daemon=True\n",
    "\n",
    "    def run(self):\n",
    "        print(self.name, '쓰레드 시작')\n",
    "        while True:\n",
    "            self.num-=1\n",
    "            print(self.name, '->', self.num)\n",
    "            if self.num==0:\n",
    "                print(self.name+'쓰레드 종료')\n",
    "                break\n",
    "            time.sleep(1) # 1초 쉼"
   ]
  },
  {
   "cell_type": "code",
   "execution_count": 6,
   "id": "7d6e72c5",
   "metadata": {},
   "outputs": [
    {
     "name": "stdout",
     "output_type": "stream",
     "text": [
      "카운트 다운 수 입력: 5\n",
      "5 instanciated\n",
      "5 쓰레드 시작\n",
      "5 -> 4\n",
      "5 -> 3\n",
      "5 -> 2\n",
      "5 -> 1\n",
      "5 -> 0\n",
      "5쓰레드 종료\n"
     ]
    }
   ],
   "source": [
    "num = input('카운트 다운 수 입력: ')\n",
    "CountDownThread(num, int(num)). start()"
   ]
  },
  {
   "cell_type": "markdown",
   "id": "923d2f3a",
   "metadata": {},
   "source": [
    "### Client_Socket"
   ]
  },
  {
   "cell_type": "markdown",
   "id": "61b85d28",
   "metadata": {},
   "source": [
    "### Server_Socket"
   ]
  }
 ],
 "metadata": {
  "kernelspec": {
   "display_name": "Python 3 (ipykernel)",
   "language": "python",
   "name": "python3"
  },
  "language_info": {
   "codemirror_mode": {
    "name": "ipython",
    "version": 3
   },
   "file_extension": ".py",
   "mimetype": "text/x-python",
   "name": "python",
   "nbconvert_exporter": "python",
   "pygments_lexer": "ipython3",
   "version": "3.9.7"
  }
 },
 "nbformat": 4,
 "nbformat_minor": 5
}
