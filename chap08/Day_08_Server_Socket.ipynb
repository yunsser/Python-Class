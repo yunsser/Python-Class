{
 "cells": [
  {
   "cell_type": "code",
   "execution_count": null,
   "id": "fb124be6",
   "metadata": {},
   "outputs": [],
   "source": [
    "from socket import *\n",
    "import time\n",
    "import pickle\n",
    "import threading\n",
    "\n",
    "from chat import ChatMsg"
   ]
  },
  {
   "cell_type": "code",
   "execution_count": null,
   "id": "9334d6d1",
   "metadata": {},
   "outputs": [],
   "source": [
    "class ChatThread(threading.Thread):\n",
    "    \n",
    "    def __init__(self, soc, addr, num, soc_dict):\n",
    "        threading.Thread.__init__(self)\n",
    "        print('ChatThread 시작됨')\n",
    "        self.soc = soc\n",
    "        self.addr = addr\n",
    "        self.num = num\n",
    "        self.soc_dict = soc_dict\n",
    "        # self.soc_list = soc_list\n",
    "\n",
    "    def run(self):\n",
    "        msg = ChatMsg('서버 접속 성공')\n",
    "        self.soc.send(pickle.dumps(msg))\n",
    "        rem_idx = -1\n",
    "        \n",
    "        while True:\n",
    "            try:\n",
    "                msg = self.soc.recv(40000) # 오류가 생기면 except 오류 발생\n",
    "                chatmsg = pickle.loads(msg)\n",
    "                if chatmsg.to:\n",
    "                    soc_dict[chatmsg.to].send(msg)\n",
    "                else:\n",
    "                    for i,s in self.soc_dict.items():\n",
    "                        if s is self.soc:\n",
    "                            rem_idx = i\n",
    "                            continue\n",
    "                        s.send(msg)\n",
    "            except:\n",
    "                print(str(self.addr)+ ' 퇴장') # 소켓 끊김\n",
    "                del self.soc_dict[self.num]\n",
    "                for i,s in self.soc_dict.items():\n",
    "                # self.soc_list.remove(self.soc)\n",
    "                # for s in self.soc_list:\n",
    "                    # if s is self.soc:\n",
    "                        # continue\n",
    "                    s.send(pickle.dumps(ChatMsg(str(self.addr)+'님 퇴장')))\n",
    "                break # while 문장을 벗어남\n",
    "        print('ChatThread 종료')"
   ]
  },
  {
   "cell_type": "code",
   "execution_count": null,
   "id": "62d8c192",
   "metadata": {},
   "outputs": [],
   "source": [
    "serverSock = socket(AF_INET, SOCK_STREAM) # 소켓 생성\n",
    "serverSock.bind(('',1122))  # ip주소/포트번호\n",
    "serverSock.listen(1) # 동시접속자를 1명으로 제한\n",
    "\n",
    "# soc_list = []\n",
    "soc_dict= {}\n",
    "num = 0\n",
    "\n",
    "while True:\n",
    "    print('서버 대기중...')\n",
    "    soc, addr = serverSock.accept() # 클라이언트 접속시까지 대기함\n",
    "    # soc_list.append(soc)\n",
    "    # ChatThread(soc,addr, soc_list).start()\n",
    "    num += 1 # 고유번호 지정\n",
    "    soc_dict[num] = soc # [num] = key , soc = value\n",
    "    ChatThread(soc, addr, num, soc_dict).start()\n",
    "    \n",
    "print('서버 종료....')"
   ]
  }
 ],
 "metadata": {
  "kernelspec": {
   "display_name": "Python 3 (ipykernel)",
   "language": "python",
   "name": "python3"
  },
  "language_info": {
   "codemirror_mode": {
    "name": "ipython",
    "version": 3
   },
   "file_extension": ".py",
   "mimetype": "text/x-python",
   "name": "python",
   "nbconvert_exporter": "python",
   "pygments_lexer": "ipython3",
   "version": "3.9.7"
  }
 },
 "nbformat": 4,
 "nbformat_minor": 5
}
