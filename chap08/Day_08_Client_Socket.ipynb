{
 "cells": [
  {
   "cell_type": "code",
   "execution_count": null,
   "id": "b1c784ab",
   "metadata": {},
   "outputs": [],
   "source": [
    "from socket import *\n",
    "import pickle\n",
    "import time\n",
    "import threading\n",
    "from chat import ChatMsg"
   ]
  },
  {
   "cell_type": "code",
   "execution_count": null,
   "id": "f779ad00",
   "metadata": {},
   "outputs": [],
   "source": [
    "class SendThread(threading.Thread):\n",
    "    def __init__(self, soc):\n",
    "        threading.Thread.__init__(self)\n",
    "        self.soc = soc\n",
    "        \n",
    "    def run(self):\n",
    "        while True:\n",
    "            sMsg = input('입력: ') # 3/hello\n",
    "            in_list = sMsg.split('/') # ['3', 'hello']\n",
    "            chatmsg = None\n",
    "            if len(in_list) == 1: # 모두에게 보내는 메세지\n",
    "                chatmsg = ChatMsg(sMsg)\n",
    "            elif len(in_list) ==2:\n",
    "                n,msg = in_list\n",
    "                chatmsg = ChatMsg(msg, to=int(n))\n",
    "            elif len(in_list)==3: # 3/Hello/test.jpg\n",
    "                n, msg, fname = in_list\n",
    "                with open(fname, 'rb') as fin:\n",
    "                    fdata = fin.read()\n",
    "                    chatmsg = ChatMsg(msg, to=int(n), attach=fdata)\n",
    "                    print('보내는 파일크기: ', len(chatmsg.attach))\n",
    "            self.soc.send(pickle.dumps(chatmsg))\n",
    "            # chatmsg = pickle.dumps(ChatMsg(sMsg))\n",
    "            # self.soc.send(chatmsg)"
   ]
  },
  {
   "cell_type": "code",
   "execution_count": null,
   "id": "d654ce7e",
   "metadata": {},
   "outputs": [],
   "source": [
    "clientSock = socket(AF_INET,SOCK_STREAM) # 소켓 생성\n",
    "clientSock.connect(('127.0.0.1', 1122)) # 서버에 접속 (1024 이후 서버)\n",
    "\n",
    "SendThread(clientSock).start()\n",
    "\n",
    "while True:\n",
    "    msg = clientSock.recv(40000)\n",
    "    chatmsg = pickle.loads(msg)\n",
    "    print(chatmsg)\n",
    "    if chatmsg.attach:\n",
    "        print('수신된 파일크기: ', len(chatmsg.attach))\n",
    "        # print(pickle.loads(msg))\n",
    "        \n",
    "        with open('copy.jpg', 'wb') as fout:\n",
    "            fout.write(chatmsg.attach)\n",
    "            print('파일저장 성공')\n",
    "\n",
    "print('클라이언트 종료...')"
   ]
  },
  {
   "cell_type": "code",
   "execution_count": null,
   "id": "69aa1459",
   "metadata": {},
   "outputs": [],
   "source": [
    "n,msg,fname = '3/msg/fname'.split('/')\n",
    "with open('test.jpg', 'rb') as fin:\n",
    "    img_data = fin.read()\n",
    "    # print(type(img_data))\n",
    "    ChatMsg(msg, to=int(n), attach=img_data)\n",
    "    \n",
    "print('이미지 로드 완료')"
   ]
  }
 ],
 "metadata": {
  "kernelspec": {
   "display_name": "Python 3 (ipykernel)",
   "language": "python",
   "name": "python3"
  },
  "language_info": {
   "codemirror_mode": {
    "name": "ipython",
    "version": 3
   },
   "file_extension": ".py",
   "mimetype": "text/x-python",
   "name": "python",
   "nbconvert_exporter": "python",
   "pygments_lexer": "ipython3",
   "version": "3.9.7"
  }
 },
 "nbformat": 4,
 "nbformat_minor": 5
}
